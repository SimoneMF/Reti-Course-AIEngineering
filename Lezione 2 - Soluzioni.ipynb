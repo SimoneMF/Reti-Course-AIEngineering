{
 "cells": [
  {
   "cell_type": "markdown",
   "metadata": {},
   "source": [
    "# Numpy e Matplotlib: Soluzioni"
   ]
  },
  {
   "cell_type": "code",
   "execution_count": 1,
   "metadata": {},
   "outputs": [],
   "source": [
    "import numpy as np\n",
    "import matplotlib.pyplot as plt"
   ]
  },
  {
   "cell_type": "markdown",
   "metadata": {},
   "source": [
    "<br><br><br>\n",
    "**Esercizio \\[\\*\\]:** Una volta assegnato un valore intero a $N$:\n",
    "- creare un dizionario vuoto *Dimensioni*\n",
    "- aggiungere a *Dimensioni* un vettore di $N$ interi casuali da 5 a 20, usando la chiave *altezza* \n",
    "- aggiungere a *Dimensioni* un vettore di $N$ interi casuali da 3 a 10, usando la chiave *larghezza*\n",
    "- aggiungere a *Dimensioni* un vettore di aree calcolate a partire dalle dimensioni inserite nei punti precedenti, usando la chiave *area* \n",
    "- Calcolare la media e la mediana delle aree presenti in *Dimensione* "
   ]
  },
  {
   "cell_type": "code",
   "execution_count": 2,
   "metadata": {},
   "outputs": [
    {
     "name": "stdout",
     "output_type": "stream",
     "text": [
      "Area media: 87.72\n",
      "Area mediana: 80.0\n"
     ]
    }
   ],
   "source": [
    "N = 100\n",
    "Dimensioni = {}\n",
    "Dimensioni[\"altezza\"] = np.random.randint(5,21,N)\n",
    "Dimensioni[\"larghezza\"] = np.random.randint(3,11,N)\n",
    "Dimensioni[\"area\"] = Dimensioni[\"altezza\"] * Dimensioni[\"larghezza\"]\n",
    "\n",
    "print(\"Area media:\",Dimensioni[\"area\"].mean())\n",
    "print(\"Area mediana:\", np.median(Dimensioni[\"area\"]))"
   ]
  },
  {
   "cell_type": "markdown",
   "metadata": {},
   "source": [
    "<br><br><br>\n",
    "**Esercizio \\[\\*\\]**<br>\n",
    "Scrivere una funzione *testaocroce(N)* che simuli $N$ lanci di moneta (1 = Testa, 0 = Croce) restituendo un array con $N$ risultati<br>\n",
    " \n",
    "**Bonus! \\[\\*\\*\\]**: Calcolare la frequenza con cui è uscita Croce su diversi tentativi, aumentando il valore di $N$<br>\n",
    "\n",
    "**Jackpot! \\[\\*\\*\\*\\]:** Generalizzare la funzione **comprendendo lanci di monete truccate** (la probabilità che esca Testa $P$ deve essere un input)<br>\n",
    "*Suggerimento 1:* **np.RANDOM.RAND(N)** restituisce un array di $N$ valori presi casualmente e *uniformemente* tra $[0,1)$<br>\n",
    "*Suggerimento 2:* **True\\*1 = 1**; **False\\*1 = 0**\n"
   ]
  },
  {
   "cell_type": "code",
   "execution_count": 3,
   "metadata": {},
   "outputs": [
    {
     "name": "stdout",
     "output_type": "stream",
     "text": [
      "[0 1 0 1 0 0 1 1 0 0]\n"
     ]
    }
   ],
   "source": [
    "def testaocroce(N):\n",
    "    out = np.random.randint(0,2,N)\n",
    "    return out\n",
    "\n",
    "N = 10\n",
    "v = testaocroce(N)\n",
    "print(v)"
   ]
  },
  {
   "cell_type": "code",
   "execution_count": 4,
   "metadata": {},
   "outputs": [
    {
     "name": "stdout",
     "output_type": "stream",
     "text": [
      "Frequenza CROCE: 0.49339999999999995\n"
     ]
    }
   ],
   "source": [
    "N = 10000\n",
    "v = testaocroce(N)\n",
    "print(\"Frequenza CROCE:\",1-v.mean())"
   ]
  },
  {
   "cell_type": "code",
   "execution_count": 5,
   "metadata": {},
   "outputs": [
    {
     "name": "stdout",
     "output_type": "stream",
     "text": [
      "Frequenza CROCE: 0.2944\n"
     ]
    }
   ],
   "source": [
    "def testaocroce2(N,P):\n",
    "    out = np.random.rand(N)\n",
    "    return (out<=P)*1 # vedi esercizio testfrequenza\n",
    "\n",
    "N = 10000\n",
    "v = testaocroce2(N,0.70)\n",
    "print(\"Frequenza CROCE:\",1-v.mean())"
   ]
  },
  {
   "cell_type": "markdown",
   "metadata": {},
   "source": [
    "<br><br><br>\n",
    "**Esercizio \\[\\*\\*\\] - Magie Matematiche: 17 è un numero fortunato!**<br>\n",
    "\n",
    "Creare un vettore di 10000 numeri interi casuali da 1 a 10<br> \n",
    "Per ogni numero estratto, impostare la seguente *magia matematica*:\n",
    "\n",
    "- moltiplicare il numero estratto per 9\n",
    "- sommare le decine e le unità del numero ottenuto\n",
    "- sommare 8\n",
    "\n",
    "Controllare che **per tutti i numeri casuali iniziali** il risultato finale dia **17**\n",
    "\n",
    "*Suggerimento* **np.FLOOR(f)** restituisce la parte intera di $f$. "
   ]
  },
  {
   "cell_type": "code",
   "execution_count": 6,
   "metadata": {},
   "outputs": [
    {
     "data": {
      "text/plain": [
       "True"
      ]
     },
     "execution_count": 6,
     "metadata": {},
     "output_type": "execute_result"
    }
   ],
   "source": [
    "n = 10000\n",
    "v0 = np.random.randint(1,11,n)\n",
    "v1 = v0*9\n",
    "v2 = np.floor(v1/10) + (v1-np.floor(v1/10)*10)\n",
    "v3 = v2 + 8\n",
    "v4 = (v3 == 17)\n",
    "\n",
    "v4.all()"
   ]
  },
  {
   "cell_type": "code",
   "execution_count": 7,
   "metadata": {},
   "outputs": [
    {
     "data": {
      "text/plain": [
       "True"
      ]
     },
     "execution_count": 7,
     "metadata": {},
     "output_type": "execute_result"
    }
   ],
   "source": [
    "# in versione compatta e poco leggibile:\n",
    "n = 10000\n",
    "v0 = np.random.randint(1,11,n)\n",
    "((np.floor(v0*9/10) + (v0*9 - np.floor(v0*9/10)*10) + 8) == 17).all()"
   ]
  },
  {
   "cell_type": "markdown",
   "metadata": {},
   "source": [
    "**Esercizio \\[\\*\\]** da un vettore di $N$ numeri casuali interi tra 1 e 20 (compreso) estrapolare un sotto-array formato da numeri compresi tra 5 e 10 (compresi)"
   ]
  },
  {
   "cell_type": "code",
   "execution_count": 8,
   "metadata": {},
   "outputs": [
    {
     "data": {
      "text/plain": [
       "array([10,  9])"
      ]
     },
     "execution_count": 8,
     "metadata": {},
     "output_type": "execute_result"
    }
   ],
   "source": [
    "N = 10\n",
    "v = np.random.randint(1,21,N)\n",
    "v[(v>=5)&(v<=10)]"
   ]
  },
  {
   "cell_type": "markdown",
   "metadata": {},
   "source": [
    "<br><br><br>\n",
    "**Esercizio \\[\\*\\*\\]** *testfrequenza(N,T)* con $N$ numero intero (*grande*) e con $T$ un numero compreso tra $[0,1]$, è una funzione che simula un vettore di $N$ numeri casuali tra 0 e 1 e **restituisce la frequenza con cui sono usciti numeri minori di $T$**"
   ]
  },
  {
   "cell_type": "code",
   "execution_count": 9,
   "metadata": {},
   "outputs": [
    {
     "data": {
      "text/plain": [
       "0.69945"
      ]
     },
     "execution_count": 9,
     "metadata": {},
     "output_type": "execute_result"
    }
   ],
   "source": [
    "def testfrequenza(N,T):\n",
    "    out = np.random.rand(N)\n",
    "    return ((out<T)*1).mean()\n",
    "\n",
    "N = 100000\n",
    "T = 0.7\n",
    "testfrequenza(N,T)\n",
    "\n",
    "# l'output è sempre molto vicino a T per valori di N molto grandi.\n",
    "# questo vuol dire che (out<T)*1 restituisce un vettori di 1 e 0 \n",
    "# con un percentuale T*100% di 1.\n",
    "\n",
    "# Nota: ottimo da usare per l'esercizio testaocroce versione truccata\n"
   ]
  },
  {
   "cell_type": "markdown",
   "metadata": {},
   "source": [
    "<br><br><br>\n",
    "**Esercizio \\[\\*\\]** Implementare una funzione *Istogramma(V,B)* che prendendo in pasto un vettore di valori $V$ e un numero di bin $B$ metta a schermo un istogramma di $V$ con $B$ bins, **usando un bar plot**"
   ]
  },
  {
   "cell_type": "code",
   "execution_count": 10,
   "metadata": {},
   "outputs": [
    {
     "data": {
      "image/png": "[encoded data removed]",
      "text/plain": [
       "<Figure size 432x288 with 1 Axes>"
      ]
     },
     "metadata": {
      "needs_background": "light"
     },
     "output_type": "display_data"
    }
   ],
   "source": [
    "def Istrogramma(V,B):\n",
    "    edges = np.linspace(V.min(), V.max(), B+1)\n",
    "    values = []\n",
    "    for i in range(edges.size-1):\n",
    "        values.append(np.sum((V>=edges[i]) & (V<edges[i+1])))\n",
    "    plt.bar(edges[1:],np.array(values))\n",
    "    return\n",
    "\n",
    "V = np.random.randn(10000) + 3\n",
    "B = 20\n",
    "Istrogramma(V,B)"
   ]
  },
  {
   "cell_type": "markdown",
   "metadata": {},
   "source": [
    "<br><br><br>\n",
    "**Esercizio \\[\\*\\]** Generare due array casuali da una normale standard e creare un plot 2x2 che comprenda:\n",
    "- uno scatterplot centrale\n",
    "- un istogramma sopra lo scatterplot per il vettore alla coordinata x\n",
    "- un istogramma a destra dello scatterplot per il vettore alla coordinata y\n",
    "\n",
    "**Bonus!\\[\\*\\*\\]** Orientare l'istogramma a sinistra in maniera tale che sia orizzontale con la base vicina all'asse y "
   ]
  },
  {
   "cell_type": "code",
   "execution_count": 11,
   "metadata": {},
   "outputs": [
    {
     "data": {
      "image/png": "[encoded data removed]",
      "text/plain": [
       "<Figure size 720x720 with 3 Axes>"
      ]
     },
     "metadata": {
      "needs_background": "light"
     },
     "output_type": "display_data"
    }
   ],
   "source": [
    "x = np.random.randn(1000)\n",
    "y = np.random.randn(1000)\n",
    "\n",
    "fig = plt.figure(figsize = [10,10])\n",
    "plt.subplot(2,2,1)\n",
    "plt.hist(x)\n",
    "plt.subplot(2,2,4)\n",
    "plt.hist(y)\n",
    "plt.subplot(2,2,3)\n",
    "plt.scatter(x,y)\n",
    "plt.show()"
   ]
  },
  {
   "cell_type": "code",
   "execution_count": 12,
   "metadata": {},
   "outputs": [
    {
     "data": {
      "image/png": "[encoded data removed]",
      "text/plain": [
       "<Figure size 720x720 with 3 Axes>"
      ]
     },
     "metadata": {
      "needs_background": "light"
     },
     "output_type": "display_data"
    }
   ],
   "source": [
    "x = np.random.randn(1000)\n",
    "y = np.random.randn(1000)\n",
    "\n",
    "fig = plt.figure(figsize = [10,10])\n",
    "plt.subplot(2,2,1)\n",
    "plt.hist(x)\n",
    "plt.xticks([])\n",
    "plt.subplot(2,2,4)\n",
    "plt.hist(y, orientation = \"horizontal\")\n",
    "plt.yticks([])\n",
    "plt.subplot(2,2,3)\n",
    "plt.scatter(x,y)\n",
    "plt.xlabel(\"X\")\n",
    "plt.ylabel(\"Y\")\n",
    "plt.show()"
   ]
  }
 ],
 "metadata": {
  "kernelspec": {
   "display_name": "Python 3",
   "language": "python",
   "name": "python3"
  },
  "language_info": {
   "codemirror_mode": {
    "name": "ipython",
    "version": 3
   },
   "file_extension": ".py",
   "mimetype": "text/x-python",
   "name": "python",
   "nbconvert_exporter": "python",
   "pygments_lexer": "ipython3",
   "version": "3.8.5"
  }
 },
 "nbformat": 4,
 "nbformat_minor": 4
}
