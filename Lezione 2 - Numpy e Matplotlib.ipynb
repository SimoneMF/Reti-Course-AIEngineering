{
 "cells": [
  {
   "cell_type": "markdown",
   "metadata": {},
   "source": [
    "# Numpy e Matplotlib"
   ]
  },
  {
   "cell_type": "markdown",
   "metadata": {},
   "source": [
    "Numpy, Matplotlib e Pandas sono le 3 librerie fondamentali per qualsiasi progetto di data analisi su python.<br>\n",
    "In particolare Pandas è costruita su Numpy e Matplotlib combinando le strutture algebriche implementate nel primo e le funzioni che generano i grafici nel secondo."
   ]
  },
  {
   "cell_type": "markdown",
   "metadata": {},
   "source": [
    "## Numpy"
   ]
  },
  {
   "cell_type": "markdown",
   "metadata": {},
   "source": [
    "NumPy (Numerical Python) è una libreria di calcolo scientifico che implementa numerosi metodi per creare e gestire vettori di numeri, detti **array**. È la base di molte delle librerie più usate di python in ambito data science, come ad esempio Pandas e Matplotlib."
   ]
  },
  {
   "cell_type": "code",
   "execution_count": 1,
   "metadata": {},
   "outputs": [],
   "source": [
    "import numpy as np\n",
    "#help(np.ndarray) # N-Dimension Array"
   ]
  },
  {
   "cell_type": "code",
   "execution_count": 2,
   "metadata": {},
   "outputs": [
    {
     "name": "stdout",
     "output_type": "stream",
     "text": [
      "[1.  2.  3.  4.  6.4]\n",
      "<class 'int'>\n",
      "<class 'numpy.float64'>\n",
      "<class 'numpy.ndarray'>\n"
     ]
    }
   ],
   "source": [
    "# creo un array da una lista di numeri\n",
    "l = [1,2,3,4,6.4]\n",
    "a = np.array(l)\n",
    "print(a)\n",
    "## nota, i primi 4 sono interi ma in array sono tutti float\n",
    "print(type(l[0]))\n",
    "print(type(a[0]))\n",
    "print(type(a))"
   ]
  },
  {
   "cell_type": "code",
   "execution_count": 3,
   "metadata": {},
   "outputs": [
    {
     "name": "stdout",
     "output_type": "stream",
     "text": [
      "[1 2 3 4 6]\n",
      "<class 'int'>\n",
      "<class 'numpy.int32'>\n"
     ]
    }
   ],
   "source": [
    "# creo un array da una lista di numeri\n",
    "l = [1,2,3,4,6]\n",
    "a = np.array(l)\n",
    "print(a)\n",
    "print(type(l[0]))\n",
    "print(type(a[0]))"
   ]
  },
  {
   "cell_type": "code",
   "execution_count": 4,
   "metadata": {},
   "outputs": [
    {
     "name": "stdout",
     "output_type": "stream",
     "text": [
      "[[1 2 3]\n",
      " [4 5 6]]\n"
     ]
    }
   ],
   "source": [
    "M_listoflist = [[1,2,3],[4,5,6]]\n",
    "M = np.array(M_listoflist)\n",
    "print(M)\n",
    "# questo è un array multidimensionale, quindi è formalmente una matrice!"
   ]
  },
  {
   "cell_type": "code",
   "execution_count": 5,
   "metadata": {},
   "outputs": [
    {
     "name": "stdout",
     "output_type": "stream",
     "text": [
      "6\n",
      "(2, 3)\n"
     ]
    }
   ],
   "source": [
    "print(M.size) # è il numero totale degli elementi in array\n",
    "print(M.shape) # è una tupla contenente le dimensioni dell'array"
   ]
  },
  {
   "cell_type": "code",
   "execution_count": 6,
   "metadata": {},
   "outputs": [
    {
     "name": "stdout",
     "output_type": "stream",
     "text": [
      "Zeros: [0. 0. 0. 0. 0. 0. 0. 0. 0. 0.] \n",
      "\n",
      "Ones: [1. 1. 1. 1. 1. 1. 1. 1. 1. 1.] \n",
      "\n",
      "uniform [0,1]: [0.46988793 0.86877342 0.74238589 0.49478963 0.73629028 0.54757354\n",
      " 0.31912482 0.50339065 0.27635606 0.51726073] \n",
      "\n",
      "uniform int [0,20]: [ 5  6  0  6 13 17 13 16  7 19] \n",
      "\n",
      "Range: [0 1 2 3 4 5 6 7 8 9] \n",
      "\n",
      "<class 'numpy.ndarray'>\n"
     ]
    }
   ],
   "source": [
    "# ho diversi metodi per generare array di dimensione desiderata\n",
    "n = 10\n",
    "zero = np.zeros(n)\n",
    "uno = np.ones(n)\n",
    "rand = np.random.rand(n)\n",
    "randint = np.random.randint(0,20,n) #numeri casuali da 0 (incluso) a 20 (escluso)\n",
    "array_range = np.arange(10)\n",
    "\n",
    "print(\"Zeros:\",zero, \"\\n\")\n",
    "print(\"Ones:\",uno, \"\\n\")\n",
    "print(\"uniform [0,1]:\", rand, \"\\n\")\n",
    "print(\"uniform int [0,20]:\", randint, \"\\n\")\n",
    "print(\"Range:\",array_range, \"\\n\")\n",
    "\n",
    "print(type(array_range))"
   ]
  },
  {
   "cell_type": "code",
   "execution_count": 7,
   "metadata": {},
   "outputs": [],
   "source": [
    "#help(np.random.randint)"
   ]
  },
  {
   "cell_type": "markdown",
   "metadata": {},
   "source": [
    "Passando alle funzioni **ZEROS** e **ONES** una lista di dimensioni, generano un array multidimensionale.<br>\n",
    "La funzione **EYE(N)** invece restituisce una matrice quadrata di dimensioni $N\\times N$ con tutti elementi pari a 0, escludendo una diagonale di 1"
   ]
  },
  {
   "cell_type": "code",
   "execution_count": 8,
   "metadata": {},
   "outputs": [
    {
     "name": "stdout",
     "output_type": "stream",
     "text": [
      "[[0. 0. 0. 0.]\n",
      " [0. 0. 0. 0.]\n",
      " [0. 0. 0. 0.]\n",
      " [0. 0. 0. 0.]\n",
      " [0. 0. 0. 0.]]\n",
      "\n",
      "[[1. 0. 0. 0. 0.]\n",
      " [0. 1. 0. 0. 0.]\n",
      " [0. 0. 1. 0. 0.]\n",
      " [0. 0. 0. 1. 0.]\n",
      " [0. 0. 0. 0. 1.]]\n"
     ]
    }
   ],
   "source": [
    "n = 5\n",
    "m = 4\n",
    "M_zero = np.zeros([n,m])\n",
    "print(M_zero)\n",
    "print(\"\")\n",
    "M_eye = np.eye(n)\n",
    "print(M_eye)"
   ]
  },
  {
   "cell_type": "markdown",
   "metadata": {},
   "source": [
    "Un'altra funzione molto utile (in particolare per disegnare grafici) è la funzione **LINSPACE(START, STOP, N)**: restituisce un vettore di $N$ numeri equispaziati partendo da START e finendo con STOP (incluso)"
   ]
  },
  {
   "cell_type": "code",
   "execution_count": 9,
   "metadata": {},
   "outputs": [
    {
     "name": "stdout",
     "output_type": "stream",
     "text": [
      "[ 1.   1.5  2.   2.5  3.   3.5  4.   4.5  5.   5.5  6.   6.5  7.   7.5\n",
      "  8.   8.5  9.   9.5 10. ]\n"
     ]
    }
   ],
   "source": [
    "x = np.linspace(1,10,19)\n",
    "print(x)"
   ]
  },
  {
   "cell_type": "code",
   "execution_count": 10,
   "metadata": {},
   "outputs": [],
   "source": [
    "#help(np.linspace)"
   ]
  },
  {
   "cell_type": "markdown",
   "metadata": {},
   "source": [
    "Quando una funzione restituisce più di un valore, l'output è una **tupla**, ovvero un modo alternativo alla lista di salvare gruppi di variabili.<br>\n",
    "> Le tuple sono delle _liste immutabili_."
   ]
  },
  {
   "cell_type": "code",
   "execution_count": 11,
   "metadata": {},
   "outputs": [
    {
     "name": "stdout",
     "output_type": "stream",
     "text": [
      "x: (array([ 1.        ,  1.47368421,  1.94736842,  2.42105263,  2.89473684,\n",
      "        3.36842105,  3.84210526,  4.31578947,  4.78947368,  5.26315789,\n",
      "        5.73684211,  6.21052632,  6.68421053,  7.15789474,  7.63157895,\n",
      "        8.10526316,  8.57894737,  9.05263158,  9.52631579, 10.        ]), 0.47368421052631576)\n",
      "\n",
      "Classe di x: <class 'tuple'>\n",
      "\n",
      "Secondo elemento della tupla: 0.47368421052631576\n"
     ]
    }
   ],
   "source": [
    "x = np.linspace(1,10,20,retstep = True)\n",
    "print(\"x:\",x)\n",
    "print(\"\")\n",
    "print(\"Classe di x:\",type(x))\n",
    "print(\"\")\n",
    "print(\"Secondo elemento della tupla:\", x[1])"
   ]
  },
  {
   "cell_type": "code",
   "execution_count": 12,
   "metadata": {},
   "outputs": [
    {
     "name": "stdout",
     "output_type": "stream",
     "text": [
      "[ 1.          1.47368421  1.94736842  2.42105263  2.89473684  3.36842105\n",
      "  3.84210526  4.31578947  4.78947368  5.26315789  5.73684211  6.21052632\n",
      "  6.68421053  7.15789474  7.63157895  8.10526316  8.57894737  9.05263158\n",
      "  9.52631579 10.        ]\n"
     ]
    },
    {
     "data": {
      "text/plain": [
       "0.47368421052631576"
      ]
     },
     "execution_count": 12,
     "metadata": {},
     "output_type": "execute_result"
    }
   ],
   "source": [
    "x, step = np.linspace(1,10,20,retstep = True)\n",
    "print(x)\n",
    "step"
   ]
  },
  {
   "cell_type": "markdown",
   "metadata": {},
   "source": [
    "Per assegnare direttamente l'output di una funzione a singole variabili, basta elencarle nell'assegnamento. "
   ]
  },
  {
   "cell_type": "code",
   "execution_count": 13,
   "metadata": {},
   "outputs": [
    {
     "name": "stdout",
     "output_type": "stream",
     "text": [
      "Classe di x: <class 'numpy.ndarray'>\n",
      "Classe di step: <class 'numpy.float64'>\n"
     ]
    }
   ],
   "source": [
    "x, step = np.linspace(1,10,20,retstep = True)\n",
    "print(\"Classe di x:\", type(x))\n",
    "print(\"Classe di step:\",type(step))"
   ]
  },
  {
   "cell_type": "markdown",
   "metadata": {},
   "source": [
    "### Operazioni tra array"
   ]
  },
  {
   "cell_type": "markdown",
   "metadata": {},
   "source": [
    "In sostanza gli array sono dei vettori, con numpy si possono eseguire facilmente tutte le operazioni più comuni"
   ]
  },
  {
   "cell_type": "code",
   "execution_count": 14,
   "metadata": {},
   "outputs": [
    {
     "name": "stdout",
     "output_type": "stream",
     "text": [
      "Somma:\n",
      " [[ 1  3  5  7]\n",
      " [ 9 11 13 15]] \n",
      "\n",
      "Prodotto \"element-wise\":\n",
      " [[ 0  2  6 12]\n",
      " [20 30 42 56]] \n",
      "\n",
      "Traslazione:\n",
      " [[10 11 12 13]\n",
      " [14 15 16 17]] \n",
      "\n",
      "Scaling :\n",
      " [[ 0 10 20 30]\n",
      " [40 50 60 70]] \n",
      "\n",
      "Prodotto scalare (o prodotto interno) : 20\n"
     ]
    }
   ],
   "source": [
    "a = np.array([[0,1,2,3],[4,5,6,7]])\n",
    "b = np.array([[1,2,3,4],[5,6,7,8]])\n",
    "s = 10\n",
    "#Somma \"element-wise\" di array\n",
    "print(\"Somma:\\n\", a+b, \"\\n\")\n",
    "print(\"Prodotto \\\"element-wise\\\":\\n\", a*b, \"\\n\")\n",
    "print(\"Traslazione:\\n\", a+s, \"\\n\") \n",
    "print(\"Scaling :\\n\", a*s, \"\\n\")\n",
    "\n",
    "v = np.array([1,2,3,4])\n",
    "w = np.array([4,3,2,1])\n",
    "print(\"Prodotto scalare (o prodotto interno) :\", np.dot(v,w))"
   ]
  },
  {
   "cell_type": "markdown",
   "metadata": {},
   "source": [
    "In numpy sono presenti anche dei metodi e delle funzioni di aggregazione"
   ]
  },
  {
   "cell_type": "code",
   "execution_count": 15,
   "metadata": {},
   "outputs": [
    {
     "name": "stdout",
     "output_type": "stream",
     "text": [
      "[1 2 3 4 5 6 7 8 9]\n",
      "Somma: 45\n",
      "Minimo: 1\n",
      "Massimo: 9\n",
      "Posizione minimo: 0\n",
      "Posizione massimo: 8\n",
      "Media:  5.0\n",
      "Mediana:  5.0\n",
      "Percentile P:  5.0\n"
     ]
    }
   ],
   "source": [
    "a = np.arange(1,10)\n",
    "print(a)\n",
    "print(\"Somma:\", a.sum())\n",
    "print(\"Minimo:\", a.min())\n",
    "print(\"Massimo:\", a.max())\n",
    "print(\"Posizione minimo:\", a.argmin())\n",
    "print(\"Posizione massimo:\", a.argmax())\n",
    "print(\"Media: \", a.mean())\n",
    "\n",
    "#ci sono anche funzioni che restituiscono valore aggregato\n",
    "print(\"Mediana: \", np.median(a))\n",
    "P = 50\n",
    "print(\"Percentile P: \", np.percentile(a,P))"
   ]
  },
  {
   "cell_type": "markdown",
   "metadata": {},
   "source": [
    "**Esercizio \\[\\*\\]:** Una volta assegnato un valore intero a $N$:\n",
    "- creare un dizionario vuoto *Dimensioni*\n",
    "- aggiungere a *Dimensioni* un vettore di $N$ interi casuali da 5 a 20, usando la chiave *altezza* \n",
    "- aggiungere a *Dimensioni* un vettore di $N$ interi casuali da 3 a 10, usando la chiave *larghezza*\n",
    "- aggiungere a *Dimensioni* un vettore di aree calcolate a partire dalle dimensioni inserite nei punti precedenti, usando la chiave *area* \n",
    "- Calcolare la media e la mediana delle aree presenti in *Dimensione* "
   ]
  },
  {
   "cell_type": "markdown",
   "metadata": {},
   "source": [
    "### Operazioni con array n-dimensionali"
   ]
  },
  {
   "cell_type": "markdown",
   "metadata": {},
   "source": [
    "Tutte le operazioni element-wise funzionano facilmente anche per matrici n-dimensionali.<br>\n",
    "Invece per tutte le funzioni di aggregazione dell'informazione **è necessario specificare la dimensione da aggregare**.<br>\n",
    "Le dimensioni in numpy si chiamano *axes* e sono ordinate secondo l'indicizzazione python, ovvero la prima dimensione sarà l'asse 0, la seconda l'asse 1 e così via.\n"
   ]
  },
  {
   "cell_type": "code",
   "execution_count": 17,
   "metadata": {},
   "outputs": [
    {
     "name": "stdout",
     "output_type": "stream",
     "text": [
      "[[[1. 1. 1. 1.]\n",
      "  [1. 1. 1. 1.]\n",
      "  [1. 1. 1. 1.]]\n",
      "\n",
      " [[1. 1. 1. 1.]\n",
      "  [1. 1. 1. 1.]\n",
      "  [1. 1. 1. 1.]]]\n",
      "\n",
      "L'asse 0 è la prima dimensione. Aggregando la prima dimensione otterrò una matrice 3x4\n",
      "[[2. 2. 2. 2.]\n",
      " [2. 2. 2. 2.]\n",
      " [2. 2. 2. 2.]]\n",
      "\n",
      "L'asse 1 è la seconda dimensione. Aggregando la seconda dimensione otterrò una matrice 2x4\n",
      "[[3. 3. 3. 3.]\n",
      " [3. 3. 3. 3.]]\n",
      "\n",
      "L'asse 2 è la terza dimensione. Aggregando la terza dimensione otterrò una matrice 2x3\n",
      "[[4. 4. 4.]\n",
      " [4. 4. 4.]]\n"
     ]
    }
   ],
   "source": [
    "A = np.ones([2,3,4]) # è un cubo 2x3x4\n",
    "print(A)\n",
    "print(\"\")\n",
    "print(\"L'asse 0 è la prima dimensione. Aggregando la prima dimensione otterrò una matrice 3x4\")\n",
    "B = A.sum(0) #\n",
    "print(B)\n",
    "print(\"\")\n",
    "print(\"L'asse 1 è la seconda dimensione. Aggregando la seconda dimensione otterrò una matrice 2x4\")\n",
    "C = A.sum(1) #\n",
    "print(C)\n",
    "print(\"\")\n",
    "print(\"L'asse 2 è la terza dimensione. Aggregando la terza dimensione otterrò una matrice 2x3\")\n",
    "C = A.sum(2)\n",
    "print(C)"
   ]
  },
  {
   "cell_type": "markdown",
   "metadata": {},
   "source": [
    " "
   ]
  },
  {
   "cell_type": "markdown",
   "metadata": {},
   "source": [
    "### Operazioni logiche tra array"
   ]
  },
  {
   "cell_type": "markdown",
   "metadata": {},
   "source": [
    "Le operazioni logiche fra array sono element-wise e restituiscono un array di booleani se alla posizione corrispondente la condizione è verificata"
   ]
  },
  {
   "cell_type": "code",
   "execution_count": 18,
   "metadata": {},
   "outputs": [
    {
     "name": "stdout",
     "output_type": "stream",
     "text": [
      "<class 'numpy.ndarray'>\n",
      "\n",
      "a==5 [ True False False False False]\n",
      "a<8 [ True False  True  True False]\n",
      "\n",
      "a==b [ True False  True  True False]\n",
      "a>b [False False False False  True]\n"
     ]
    }
   ],
   "source": [
    "a = np.array([5,8,3,2,10])\n",
    "\n",
    "print(type(a==5))\n",
    "print(\"\")\n",
    "print(\"a==5\", a == 5)\n",
    "print(\"a<8\", a < 8)\n",
    "print(\"\")\n",
    "\n",
    "b = np.array([5,10,3,2,8])\n",
    "print(\"a==b\", a == b)\n",
    "print(\"a>b\", a > b)"
   ]
  },
  {
   "cell_type": "markdown",
   "metadata": {},
   "source": [
    "Anche le espressioni logiche sono eseguite elemento per elemento. Tuttavia le keywork **AND**, **OR**, **NOT** **non funzionano con gli array**. \n",
    "Bisogna usare gli operatori logici **&** (and), **|** (or) e **~** (not)"
   ]
  },
  {
   "cell_type": "code",
   "execution_count": 19,
   "metadata": {},
   "outputs": [
    {
     "name": "stdout",
     "output_type": "stream",
     "text": [
      "[False False False  True False]\n",
      "[ True False  True  True False]\n",
      "[False  True False False  True]\n"
     ]
    }
   ],
   "source": [
    "a = np.array([5,8,3,2,10])\n",
    "b = np.array([5,10,3,2,8])\n",
    "print( (a==b) & (a<3) )\n",
    "print( (a==b) | (a<3) )\n",
    "print( ~(a==b))"
   ]
  },
  {
   "cell_type": "markdown",
   "metadata": {},
   "source": [
    "Esistono dei metodi aggregatori per gli array booleani:\n",
    "- **ANY** verfica che almeno un elemento sia vero\n",
    "- **ALL** verifica che tutti gli elementi siano veri\n",
    "\n",
    "Se l'array non è booleano, i due metodi funzionano ugualmente e verificano che gli elementi siano diversi da zero."
   ]
  },
  {
   "cell_type": "code",
   "execution_count": 20,
   "metadata": {},
   "outputs": [
    {
     "name": "stdout",
     "output_type": "stream",
     "text": [
      "Almeno uno vero: \n",
      "cond1: True \n",
      "cond2: True \n",
      "cond3: False \n",
      "fake1: True \n",
      "fake2: True\n",
      "\n",
      "Tutti veri: \n",
      "cond1: False \n",
      "cond2: True \n",
      "cond3: False \n",
      "fake1: True \n",
      "fake2: False\n"
     ]
    }
   ],
   "source": [
    "cond1 = np.array([True,False,False])\n",
    "cond2 = np.array([True,True,True])\n",
    "cond3 = np.array([False,False,False])\n",
    "fake1 = np.array([1,2,3])\n",
    "fake2 = np.array([0,2,3])\n",
    "print(\"Almeno uno vero:\",\"\\ncond1:\",cond1.any(),\"\\ncond2:\",cond2.any(),\"\\ncond3:\",cond3.any(), \"\\nfake1:\", fake1.any(),\"\\nfake2:\", fake2.any())\n",
    "print(\"\")\n",
    "print(\"Tutti veri:\",\"\\ncond1:\",cond1.all(),\"\\ncond2:\",cond2.all(),\"\\ncond3:\",cond3.all(), \"\\nfake1:\", fake1.all(),\"\\nfake2:\", fake2.all())"
   ]
  },
  {
   "cell_type": "markdown",
   "metadata": {},
   "source": [
    "**Esercizio \\[\\*\\]**<br>\n",
    "Scrivere una funzione *testaocroce(N)* che simuli $N$ lanci di moneta (1 = Testa, 0 = Croce) restituendo un array con $N$ risultati<br>\n",
    " \n",
    "**Bonus! \\[\\*\\*\\]**: Calcolare la frequenza con cui è uscita Croce su diversi tentativi, aumentando il valore di $N$<br>\n",
    "\n",
    "**Jackpot! \\[\\*\\*\\*\\]:** Generalizzare la funzione **comprendendo lanci di monete truccate** (la probabilità che esca Testa $P$ deve essere un input)<br>\n",
    "*Suggerimento 1:* **np.RANDOM.RAND(N)** restituisce un array di $N$ valori presi casualmente e *uniformemente* tra $[0,1)$<br>\n",
    "*Suggerimento 2:* **True\\*1 = 1**; **False\\*1 = 0**\n"
   ]
  },
  {
   "cell_type": "markdown",
   "metadata": {},
   "source": [
    "**Esercizio \\[\\*\\*\\] - Magie Matematiche: 17 è un numero fortunato!**<br>\n",
    "\n",
    "Creare un vettore di 10000 numeri interi casuali da 1 a 10<br> \n",
    "Per ogni numero estratto, impostare la seguente *magia matematica*:\n",
    "\n",
    "- moltiplicare il numero estratto per 9\n",
    "- sommare le decine e le unità del numero ottenuto\n",
    "- sommare 8\n",
    "\n",
    "Controllare che **per tutti i numeri casuali iniziali** il risultato finale dia **17**\n",
    "\n",
    "*Suggerimento* **np.FLOOR(f)** restituisce la parte intera di $f$. "
   ]
  },
  {
   "cell_type": "markdown",
   "metadata": {},
   "source": [
    "### Estrapolazione di dati da array"
   ]
  },
  {
   "cell_type": "code",
   "execution_count": 22,
   "metadata": {},
   "outputs": [
    {
     "name": "stdout",
     "output_type": "stream",
     "text": [
      "[1 2 4 4 2 0 4 2 3 0]\n",
      "1\n",
      "[1 2 4]\n",
      "[1 2 4]\n"
     ]
    }
   ],
   "source": [
    "a = np.random.randint(0,5,10)\n",
    "print(a)\n",
    "print(a[0])\n",
    "print(a[0:3]) #slicing\n",
    "b = [0,1,2] # definisco lista di posizioni (vale anche per array)\n",
    "print(a[b])"
   ]
  },
  {
   "cell_type": "markdown",
   "metadata": {},
   "source": [
    "Un array può essere filtrato con liste (o array) di booleani"
   ]
  },
  {
   "cell_type": "code",
   "execution_count": 23,
   "metadata": {},
   "outputs": [
    {
     "name": "stdout",
     "output_type": "stream",
     "text": [
      "[1 2 4] : sotto-array filtrato da a tramite liste di booleani\n",
      "una lista non si può selezionare con liste di booleani\n"
     ]
    }
   ],
   "source": [
    "a = np.array([1,2,3,4,5])\n",
    "cond = [True, True, False, True, False]\n",
    "\n",
    "try:\n",
    "    print(a[cond], \": sotto-array filtrato da a tramite liste di booleani\" )\n",
    "except:\n",
    "    print(\"un array non si può selezionare con liste di booleani\") # NON È VERO, ovviamente\n",
    "    \n",
    "l = [1,2,3,4,5]\n",
    "try:\n",
    "    print(l[cond], \": sotto-lista selezionata da l tramite liste di booleani\" ) #questo dará errore!\n",
    "except:\n",
    "    print(\"una lista non si può selezionare con liste di booleani\") \n",
    "    \n",
    "#NOTA: si esegue try a meno di eventuali error rise, in tal caso esegue except."
   ]
  },
  {
   "cell_type": "markdown",
   "metadata": {},
   "source": [
    "**Esercizio \\[\\*\\]** da un vettore di $N$ numeri casuali interi tra 1 e 20 (compreso) estrapolare un sotto-array formato da numeri compresi tra 5 e 10 (compresi)"
   ]
  },
  {
   "cell_type": "markdown",
   "metadata": {},
   "source": [
    "**Esercizio \\[\\*\\*\\]** *testfrequenza(N,T)* con $N$ numero intero (*grande*) e con $T$ un numero compreso tra $[0,1]$, è una funzione che simula un vettore di $N$ numeri casuali tra 0 e 1 e **restituisce la frequenza con cui sono usciti numeri minori di $T$**"
   ]
  },
  {
   "cell_type": "code",
   "execution_count": 25,
   "metadata": {},
   "outputs": [
    {
     "name": "stdout",
     "output_type": "stream",
     "text": [
      "[[ 1  2  3  4  5]\n",
      " [ 4  5  6  7  8]\n",
      " [ 6  7  8  9 10]]\n",
      "\n",
      "3\n",
      "\n",
      "[[ 3  4  5]\n",
      " [ 6  7  8]\n",
      " [ 8  9 10]]\n"
     ]
    }
   ],
   "source": [
    "# per gli array multidimensionali è necessario specificare cosa prendere per ogni dimensione\n",
    "A = np.array([[1,2,3,4,5],[4,5,6,7,8],[6,7,8,9,10]])\n",
    "print(A)\n",
    "print(\"\")\n",
    "print(A[0,2]) # punto singolo\n",
    "print(\"\")\n",
    "print(A[:,2:5]) #slicing doppio > output matrice"
   ]
  },
  {
   "cell_type": "code",
   "execution_count": 26,
   "metadata": {},
   "outputs": [
    {
     "name": "stdout",
     "output_type": "stream",
     "text": [
      "[[ 1  2  3  4  5]\n",
      " [ 4  5  6  7  8]\n",
      " [ 6  7  8  9 10]]\n",
      "\n",
      "[ 3  7 10]\n"
     ]
    }
   ],
   "source": [
    "print(A)\n",
    "print(\"\")\n",
    "b = [0,1,2]\n",
    "c = [2,3,4]\n",
    "print(A[b,c]) # estrapolazione da lista > output vettore di combinazione di coordinate"
   ]
  },
  {
   "cell_type": "code",
   "execution_count": 27,
   "metadata": {},
   "outputs": [
    {
     "name": "stdout",
     "output_type": "stream",
     "text": [
      "[[ 1  2  3  4  5]\n",
      " [ 4  5  6  7  8]\n",
      " [ 6  7  8  9 10]]\n",
      "\n",
      "[ 5  8 10]  estrapolazione colonna 4\n",
      "\n",
      "[4 5 6 7 8] estrapolazione riga 1\n",
      "\n",
      "[4 5 6 7 8] estrapolazione riga 1 (V2)\n"
     ]
    }
   ],
   "source": [
    "print(A)\n",
    "print(\"\")\n",
    "print(A[:,4], \" estrapolazione colonna 4\") \n",
    "print(\"\")\n",
    "print(A[1,:], \"estrapolazione riga 1\") \n",
    "print(\"\")\n",
    "print(A[1], \"estrapolazione riga 1 (V2)\")\n"
   ]
  },
  {
   "cell_type": "code",
   "execution_count": 28,
   "metadata": {},
   "outputs": [
    {
     "name": "stdout",
     "output_type": "stream",
     "text": [
      "[[ True  True  True  True  True]\n",
      " [ True  True  True  True  True]\n",
      " [ True  True  True  True  True]]\n",
      "\n",
      "[ 1  2  3  4  5  4  5  6  7  8  6  7  8  9 10]\n"
     ]
    }
   ],
   "source": [
    "# selezione condizionale\n",
    "B = A<1000\n",
    "print(B)\n",
    "print(\"\")\n",
    "print(A[B])"
   ]
  },
  {
   "cell_type": "markdown",
   "metadata": {},
   "source": [
    "## Matplotlib"
   ]
  },
  {
   "cell_type": "markdown",
   "metadata": {},
   "source": [
    "**Matplotlib** è una libreria per la creazione di grafici per il linguaggio di programmazione Python e la libreria matematica NumPy.<br>\n",
    "Permette di fare tutti i grafici più comuni con singoli comandi. Esistono anche altre librerie per i grafici, una delle alternative più comuni è **Seaborn**."
   ]
  },
  {
   "cell_type": "code",
   "execution_count": 29,
   "metadata": {},
   "outputs": [],
   "source": [
    "import matplotlib as mtp \n",
    "import matplotlib.pyplot as plt\n",
    "\n",
    "# %matplotlib inline"
   ]
  },
  {
   "cell_type": "markdown",
   "metadata": {},
   "source": [
    "#### Funzioni o serie storiche"
   ]
  },
  {
   "cell_type": "code",
   "execution_count": 30,
   "metadata": {},
   "outputs": [
    {
     "data": {
      "text/plain": [
       "0.0"
      ]
     },
     "execution_count": 30,
     "metadata": {},
     "output_type": "execute_result"
    },
    {
     "data": {
      "image/png": "[encoded data removed]",
      "text/plain": [
       "<Figure size 432x288 with 1 Axes>"
      ]
     },
     "metadata": {
      "needs_background": "light"
     },
     "output_type": "display_data"
    }
   ],
   "source": [
    "x = np.linspace(0,2*np.pi,1000)\n",
    "plt.plot(x,np.sin(x))\n",
    "x[0]"
   ]
  },
  {
   "cell_type": "code",
   "execution_count": 31,
   "metadata": {},
   "outputs": [
    {
     "data": {
      "text/plain": [
       "[<matplotlib.lines.Line2D at 0x1f643b923d0>]"
      ]
     },
     "execution_count": 31,
     "metadata": {},
     "output_type": "execute_result"
    },
    {
     "data": {
      "image/png": "[encoded data removed]",
      "text/plain": [
       "<Figure size 432x288 with 1 Axes>"
      ]
     },
     "metadata": {
      "needs_background": "light"
     },
     "output_type": "display_data"
    }
   ],
   "source": [
    "plt.plot([0,1],[1,0])"
   ]
  },
  {
   "cell_type": "markdown",
   "metadata": {},
   "source": [
    "#### Scatter plot"
   ]
  },
  {
   "cell_type": "code",
   "execution_count": 32,
   "metadata": {},
   "outputs": [
    {
     "data": {
      "image/png": "[encoded data removed]",
      "text/plain": [
       "<Figure size 432x288 with 1 Axes>"
      ]
     },
     "metadata": {
      "needs_background": "light"
     },
     "output_type": "display_data"
    }
   ],
   "source": [
    "x = np.random.randn(1000)\n",
    "y = np.random.randn(1000)\n",
    "plt.scatter(x,y, color = \"green\", marker = \"d\")\n",
    "#help(mtp.markers)\n",
    "#help(mtp.colors)\n",
    "#plt.show() # con il doppio commentare \n",
    "w = np.random.randn(1000)\n",
    "z = np.random.randn(1000)\n",
    "plt.scatter(w,z, color = \"red\", marker = \"o\")\n",
    "plt.show()"
   ]
  },
  {
   "cell_type": "markdown",
   "metadata": {},
   "source": [
    "#### Bar plot"
   ]
  },
  {
   "cell_type": "code",
   "execution_count": 33,
   "metadata": {},
   "outputs": [
    {
     "data": {
      "image/png": "[encoded data removed]",
      "text/plain": [
       "<Figure size 432x288 with 1 Axes>"
      ]
     },
     "metadata": {
      "needs_background": "light"
     },
     "output_type": "display_data"
    }
   ],
   "source": [
    "values = np.random.randint(10,20,5)\n",
    "categories = [\"X1\",\"X2\",\"X3\",\"X4\",\"X5\"]\n",
    "plt.bar(categories,values)\n",
    "plt.title(\"Osservation grouped by categories\")\n",
    "plt.xlabel(\"categories\")\n",
    "plt.ylabel(\"number of osservation\")\n",
    "plt.show()"
   ]
  },
  {
   "cell_type": "markdown",
   "metadata": {},
   "source": [
    "**Esercizio \\[\\*\\]** Implementare una funzione *Istogramma(V,B)* che prendendo in pasto un vettore di valori $V$ e un numero di bin $B$ metta a schermo un istogramma di $V$ con $B$ bins, **usando un bar plot**"
   ]
  },
  {
   "cell_type": "markdown",
   "metadata": {},
   "source": [
    "#### Istrogramma e boxplot"
   ]
  },
  {
   "cell_type": "code",
   "execution_count": 34,
   "metadata": {},
   "outputs": [
    {
     "data": {
      "text/plain": [
       "(array([  4.,  39., 101., 204., 236., 213., 134.,  56.,  10.,   3.]),\n",
       " array([-2.96937208, -2.32939583, -1.68941959, -1.04944334, -0.40946709,\n",
       "         0.23050915,  0.8704854 ,  1.51046164,  2.15043789,  2.79041414,\n",
       "         3.43039038]),\n",
       " <BarContainer object of 10 artists>)"
      ]
     },
     "execution_count": 34,
     "metadata": {},
     "output_type": "execute_result"
    },
    {
     "data": {
      "image/png": "[encoded data removed]",
      "text/plain": [
       "<Figure size 432x288 with 1 Axes>"
      ]
     },
     "metadata": {
      "needs_background": "light"
     },
     "output_type": "display_data"
    }
   ],
   "source": [
    "V = np.random.randn(1000)\n",
    "B = 20\n",
    "plt.hist(V)"
   ]
  },
  {
   "cell_type": "code",
   "execution_count": 35,
   "metadata": {},
   "outputs": [
    {
     "name": "stdout",
     "output_type": "stream",
     "text": [
      "(2, 100)\n",
      "(100, 2)\n"
     ]
    },
    {
     "data": {
      "image/png": "[encoded data removed]",
      "text/plain": [
       "<Figure size 432x288 with 1 Axes>"
      ]
     },
     "metadata": {
      "needs_background": "light"
     },
     "output_type": "display_data"
    }
   ],
   "source": [
    "y = 3 + np.sqrt(4)*np.random.randn(100) #simulo da una normale media mu = 3, sigma^2 = 4\n",
    "z = 0 + np.sqrt(100)*np.random.randn(100) #simulo da una normale media mu = 0, sigma^2 = 9\n",
    "M = np.array([y,z])\n",
    "print(M.shape)\n",
    "MT = np.transpose(M)\n",
    "print(MT.shape)\n",
    "\n",
    "plt.boxplot(MT)\n",
    "plt.show()"
   ]
  },
  {
   "cell_type": "markdown",
   "metadata": {},
   "source": [
    "#### Composizioni di plot "
   ]
  },
  {
   "cell_type": "code",
   "execution_count": 36,
   "metadata": {},
   "outputs": [
    {
     "data": {
      "text/plain": [
       "<Figure size 432x288 with 0 Axes>"
      ]
     },
     "metadata": {},
     "output_type": "display_data"
    }
   ],
   "source": [
    "fig = plt.figure() # creo una figura\n",
    "# tale figura non ha nessun Axes (nessun grafico)"
   ]
  },
  {
   "cell_type": "code",
   "execution_count": 37,
   "metadata": {},
   "outputs": [
    {
     "data": {
      "image/png": "[encoded data removed]",
      "text/plain": [
       "<Figure size 432x288 with 2 Axes>"
      ]
     },
     "metadata": {
      "needs_background": "light"
     },
     "output_type": "display_data"
    }
   ],
   "source": [
    "x = np.linspace(0,2*np.pi,100)\n",
    "\n",
    "plt.subplot(2,1,1) #in una composizione 2x1 Axes (2 righe e 1 colonna) prendo il pannello 1\n",
    "plt.plot(x, np.sin(x)) # plotto\n",
    "plt.subplot(2,1,2) # nella stessa composizione prendo il 2o pannello\n",
    "plt.plot(x, np.cos(x)) # plotto\n",
    "plt.show()"
   ]
  },
  {
   "cell_type": "code",
   "execution_count": 38,
   "metadata": {},
   "outputs": [
    {
     "data": {
      "image/png": "[encoded data removed]",
      "text/plain": [
       "<Figure size 432x288 with 3 Axes>"
      ]
     },
     "metadata": {
      "needs_background": "light"
     },
     "output_type": "display_data"
    }
   ],
   "source": [
    "teta = np.linspace(0,2*np.pi,100)\n",
    "\n",
    "y = 3 + np.sqrt(4)*np.random.randn(100) #simulo da una normale media mu = 3, sigma^2 = 4\n",
    "\n",
    "#compongo un subplot con 6 immagini in una griglia 2x3\n",
    "fig = plt.figure()\n",
    "fig.suptitle(\"Title Figure\", weight = \"bold\")\n",
    "\n",
    "# aggiungo primo plot\n",
    "plt.subplot(2,3,1)\n",
    "plt.hist(y)\n",
    "plt.title(\"Y hist\")\n",
    "\n",
    "# aggiungo secondo plot al 5o panel (conto scorrendo per le righe)\n",
    "plt.subplot(2,3,5)\n",
    "plt.boxplot(y)\n",
    "plt.title(\"boxplot Y\")\n",
    "\n",
    "\n",
    "# aggiungo terzo plot al 3o panel\n",
    "plt.subplot(2,3,3)\n",
    "plt.plot(teta,np.sin(teta))\n",
    "\n",
    "plt.show()\n"
   ]
  },
  {
   "cell_type": "markdown",
   "metadata": {},
   "source": [
    "**Esercizio \\[\\*\\]** Generare due array casuali da una normale standard e creare un plot 2x2 che comprenda:\n",
    "- uno scatterplot centrale\n",
    "- un istogramma sopra lo scatterplot per il vettore alla coordinata x\n",
    "- un istogramma a sinistra dello scatterplot per il vettore alla coordinata y\n",
    "\n",
    "**Bonus!\\[\\*\\*\\]** Orientare l'istogramma a sinistra in maniera tale che sia orizzontale con la base vicina all'asse y "
   ]
  }
 ],
 "metadata": {
  "kernelspec": {
   "display_name": "Python 3",
   "language": "python",
   "name": "python3"
  },
  "language_info": {
   "codemirror_mode": {
    "name": "ipython",
    "version": 3
   },
   "file_extension": ".py",
   "mimetype": "text/x-python",
   "name": "python",
   "nbconvert_exporter": "python",
   "pygments_lexer": "ipython3",
   "version": "3.8.5"
  }
 },
 "nbformat": 4,
 "nbformat_minor": 4
}
