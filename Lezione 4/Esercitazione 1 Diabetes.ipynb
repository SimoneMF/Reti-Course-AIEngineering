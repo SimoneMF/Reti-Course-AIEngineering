{
 "cells": [
  {
   "cell_type": "markdown",
   "metadata": {},
   "source": [
    "# Esercitazione 1: Diabetes"
   ]
  },
  {
   "cell_type": "markdown",
   "metadata": {},
   "source": [
    "**1 - \\[\\*\\]** \n",
    "- Importare le librerie **numpy**, **pandas** e **matplotlib.pyplot** con i rispettivi alias: **np**, **pd** e **plt**."
   ]
  },
  {
   "cell_type": "markdown",
   "metadata": {},
   "source": [
    "**2 - \\[\\*\\*\\]** \n",
    "- Dal modulo *sklearn.datasets* importare la funzione *load_diabetes*.<br>\n",
    "\n",
    "*load_diabetes()* restituisce un *sklearn.utils.bunch*, un contenitore simile ad un dizionario, le cui chiavi sono anche attributi della classe.<br>\n",
    "\n",
    "- Usando il metodo appropriato, elencare le chiavi del bunch caricato e stampare la descrizione del dataset *diabetes*.\n"
   ]
  },
  {
   "cell_type": "markdown",
   "metadata": {},
   "source": [
    "**3 - \\[\\*\\*\\]** \n",
    "- Creare un DataFrame con i dati contenuti alla chiave *data* usando i nomi delle colonne presenti in *feature_names*.<br>\n",
    "- Aggiungere una colonna *y* contenente i valori alla chiave *target*.<br>\n",
    "- Mettere in output i primi elementi della tabella creata.\n",
    "\n",
    "\n"
   ]
  },
  {
   "cell_type": "markdown",
   "metadata": {},
   "source": [
    "**4 - \\[\\*\\]** \n",
    "- valutare la quantità di dati mancanti"
   ]
  },
  {
   "cell_type": "markdown",
   "metadata": {},
   "source": [
    "**5 - \\[\\*\\*\\]** \n",
    "- Sostituire i dati presenti in *sex* con una colonna di 0 (per i valori negativi) o 1 (per valori positivi)."
   ]
  },
  {
   "cell_type": "markdown",
   "metadata": {},
   "source": [
    "**6 - \\[\\*\\*\\]** \n",
    "- Plottare una scatter matrix escludendo la colonna *sex*.<br>\n",
    "- Individuare negli scatterplot le differenze di *sex* tramite il colore dei punti.<br>\n",
    "\n",
    "> Suggerimento: usare *pd.plotting.scatter_matrix(...)* specificando negli argomenti *figsize = (10,10)*"
   ]
  },
  {
   "cell_type": "markdown",
   "metadata": {},
   "source": [
    "**7 - \\[\\*\\*\\]** \n",
    "- Plottare una matrice di correlazione cromatica escludendo la colonna *sex*.<br>\n",
    "> Suggerimento: Usare *plt.imshow(...)* specificando negli argomenti *vmin = -1* e *vmax = 1*\n"
   ]
  },
  {
   "cell_type": "markdown",
   "metadata": {},
   "source": [
    "**8 - \\[\\*\\]** \n",
    "- Vogliamo preparare il dataset ad una riduzione dimensionale via feature extraction usando una PCA. Escludendo *y* e *sex*, **il dataset è già standardizzato?**"
   ]
  },
  {
   "cell_type": "markdown",
   "metadata": {},
   "source": [
    "**9 - \\[\\*\\*\\]** \n",
    "- Importare da *sklearn.preprocessing* la classe *StandardScaler*.<br>\n",
    "- Inizializzare un modello *StandardScaler*. <br>\n",
    "- Fittare il modello usando il datest, escludendo le colonne *sex* e *y*.<br>\n",
    "- Trasformare il dataset con il modello fittato, escludendo le colonne *sex* e *y*.<br>\n",
    "- Osservare che le colonne interessate abbiano media 0 e deviazione standard pari a 1."
   ]
  },
  {
   "cell_type": "markdown",
   "metadata": {},
   "source": [
    "**10 - \\[\\*\\*\\]** \n",
    "- Importare da *sklearn.decomposition* la classe *PCA*.<br>\n",
    "- Inizializzare un modello *PCA* con un numero di componenti pari alle colonne di diabetes, escludendo *sex* e *y*. <br>\n",
    "- Fittare il modello usando il datest standardizzato nell'esercizio precedente (le colonne *sex* e *y* a questo punto dovrebbero essere già escluse).<br>\n",
    "- Trasformare il dataset standardizzato tramite il modello PCA fittato.<br>"
   ]
  },
  {
   "cell_type": "markdown",
   "metadata": {},
   "source": [
    "**11 - \\[\\*\\]** \n",
    "- Quale è il numero minimo di componenti con cui riusciamo a spiegare almeno il 90% della varianza?\n",
    "\n",
    "**Bonus! - \\[\\*\\*\\]** \n",
    "- Plottare un grafico che mostri con una linea rossa la percentuale di varianza spiegata cumulata all'aumentare delle componenti e un barplot blu che mostri la percentuale di varianza spiegata dalle singole componenti.\n",
    "\n",
    "**Jackpot! - \\[\\*\\*\\*\\]**\n",
    "- C'è evidenza nell'affermare che informazioni di alcune colonne del dataset originale non vengono considerate (e quindi è possibile non tenerne conto in caso di misurazioni future)? "
   ]
  },
  {
   "cell_type": "markdown",
   "metadata": {},
   "source": [
    "**12 - \\[\\*\\*\\]** \n",
    "- Creare un DataFrame *diabetes_regr* usando $N$ componenti, con $N$ trovato al punto **11**. \n",
    "- I nomi delle feature dovranno essere PC1, PC2 .. PC$N$.\n"
   ]
  },
  {
   "cell_type": "markdown",
   "metadata": {},
   "source": [
    "**13 - \\[\\*\\*\\]** \n",
    "- Dal dataset *diabetes_regr* selezionare circa il 70% dei dati. Salvarli in un dataset *train*\n",
    "\n",
    "**Bonus! - \\[\\*\\*\\*\\]** Dal dataset *diabetes_regr* selezionare **casualmente** circa il 70% dei dati (con un margine massimo del 2%) e salvarlo in un dataset *train*\n",
    "\n",
    "- Salvare i dati rimanenti in un dataset *test*\n",
    "- Dal dataset *diabetes* estrapolare i dati di *y* corrispondenti alle righe selezionate per il dataset *train* e salvarle in una serie *y_train*.\n",
    "- Salvare i valori rimanenti di *y* in una serie *y_test*"
   ]
  },
  {
   "cell_type": "markdown",
   "metadata": {},
   "source": [
    "**14 - \\[\\*\\*\\]** \n",
    "- Dal modulo *sklearn.linear_model* importare la classe *LinearRegression*\n",
    "- Inizializzare un modello *LinearRegression* inserendo tutti gli iperparametri richiesti, se necessario.\n",
    "- Fittare il modello di regressione usando il metodo **.FIT(X_train, Y_train)**\n",
    "- Valutare le performance del modello fittato usando il metodo **.SCORE(X_train, Y_train)**\n",
    "\n",
    "L'output del metodo *.score* è una statistica di nome $R^2$. Ha valori compresi tra 0 e 1, e rappresenta la capacità del modello di stimare il dato target a partire dalle feature. <br>\n",
    "Un $R^2$ alto (70%-80%) indica che il modello riesce a stimare bene il dato richiesto. <br>\n",
    "Per valori di $R^2$ superiori al 90% è legittimo sospettare di essere caduti nell'overfitting. <br>\n",
    "Per valori di $R^2$ inferiori al 30%, il modello non riesce a stimare i dati in maniera accettabile (le feature non portano informazioni sul target). "
   ]
  },
  {
   "cell_type": "markdown",
   "metadata": {},
   "source": [
    "**15 - \\[\\*\\]** \n",
    "- Valutare il modello usando il testset *test* usando nuovamente il metodo *.score*, ma mettendo in input *test* e *y_test*"
   ]
  },
  {
   "cell_type": "markdown",
   "metadata": {},
   "source": [
    "**16 - \\[\\*\\*\\*\\*\\] BOSS ROUND!** \n",
    "- Caricare nuove misurazioni salvate in *diabetes_new.csv*.<br>\n",
    "\n",
    ">Suggerimento 1: *index_col* è un parametro di read_csv che indica quale colonna del .csv usare per l'indicizzazione delle righe\n",
    "\n",
    "- Ottenere la stima di *y* per i nuovi dati.<br>\n",
    "\n",
    ">Suggerimento 2: il modello è già addestrato. Sarà solamente necessario usare il metodo **.PREDICT(X_new)** del modello di regressione addestrato per ottenere i valori richiesti? <br><br>\n",
    ">Suggerimento 3: usare **solo** i modelli già definiti."
   ]
  }
 ],
 "metadata": {
  "kernelspec": {
   "display_name": "Python 3",
   "language": "python",
   "name": "python3"
  },
  "language_info": {
   "codemirror_mode": {
    "name": "ipython",
    "version": 3
   },
   "file_extension": ".py",
   "mimetype": "text/x-python",
   "name": "python",
   "nbconvert_exporter": "python",
   "pygments_lexer": "ipython3",
   "version": "3.8.5"
  }
 },
 "nbformat": 4,
 "nbformat_minor": 4
}
