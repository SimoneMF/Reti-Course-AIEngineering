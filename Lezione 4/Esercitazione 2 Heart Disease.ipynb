{
 "cells": [
  {
   "cell_type": "markdown",
   "metadata": {},
   "source": [
    "# Esercitazione 2: Heart Disease"
   ]
  },
  {
   "cell_type": "markdown",
   "metadata": {},
   "source": [
    "**1 - \\[\\*\\]** \n",
    "- Importare le librerie **numpy**, **pandas** e **matplotlib.pyplot** con i rispettivi alias: **np**, **pd** e **plt**."
   ]
  },
  {
   "cell_type": "markdown",
   "metadata": {},
   "source": [
    "**2 - \\[\\*\\]** \n",
    "- Caricare la tabella contenuta in *heart.csv*"
   ]
  },
  {
   "cell_type": "markdown",
   "metadata": {},
   "source": [
    "**3 - \\[\\*\\]** \n",
    "- Valutare la quantità di dati mancanti"
   ]
  },
  {
   "cell_type": "markdown",
   "metadata": {},
   "source": [
    "**4 - \\[\\*\\*\\*\\]**\n",
    "- Le variabili categoriche del dataset non sono segnate come tali dato che hanno un valore numerico. Definire un vettore di feature categoriche, sapendo che le feature numeriche sono le seguenti: <br>\n",
    "\n",
    "> numerical_features = \\['age', 'trestbps', 'chol', 'thalach', 'oldpeak'\\]\n",
    "\n",
    "- Assegnare il tipo *category* alle colonne interessate. <br>\n",
    "\n",
    "> Suggerimento: usare il metodo **.ASTYPE(new_type)** sul DataFrame. Restituisce un DF con colonne di tipo *new_type*."
   ]
  },
  {
   "cell_type": "markdown",
   "metadata": {},
   "source": [
    "**5 - \\[\\*\\]**\n",
    "- Mostrare una descrizione riassuntiva delle colonne **categoriche**\n",
    "- Siamo in presenza di dataset bilanciato su la colonna *target*?"
   ]
  },
  {
   "cell_type": "markdown",
   "metadata": {},
   "source": [
    "**6 - \\[\\*\\*\\]** \n",
    "- Plottare una scatter matrix **per le sole feature numeriche**.<br>\n",
    "- Individuare negli scatterplot le differenze di *target* tramite il colore dei punti.<br>\n",
    "\n",
    "> Suggerimento: usare *pd.plotting.scatter_matrix(...)* specificando negli argomenti *figsize = (10,10)*"
   ]
  },
  {
   "cell_type": "markdown",
   "metadata": {},
   "source": [
    "**7 - \\[\\*\\*\\*\\]** \n",
    "- Per ogni feature categorica, osservare come le categorie separano i valori di target.<br>\n",
    "\n",
    ">Suggerimento: usare **.groupby(\\[...\\])**"
   ]
  },
  {
   "cell_type": "markdown",
   "metadata": {},
   "source": [
    "**8 - \\[\\*\\]** \n",
    "- Le feature numeriche sono standardizzate?<br>"
   ]
  },
  {
   "cell_type": "markdown",
   "metadata": {},
   "source": [
    "**9 - \\[\\*\\*\\]** \n",
    "- Importare da *sklearn.preprocessing* la classe *StandardScaler*.<br>\n",
    "- Inizializzare un modello *StandardScaler*. <br>\n",
    "- Fittare il modello usando le sole colonne numeriche.<br>\n",
    "- Trasformare le colonne numeriche con il modello fittato.<br>\n",
    "- Osservare che le colonne interessate abbiano media 0 e deviazione standard pari a 1."
   ]
  },
  {
   "cell_type": "markdown",
   "metadata": {},
   "source": [
    "**10 - \\[\\*\\*\\]** \n",
    "- Importare da *sklearn.manifold* la classe *Isomap*.<br>\n",
    "- Inizializzare un modello *Isomap* con 3 componenti con un vicinato di 6 punti. <br>\n",
    "- Fittare il modello usando il datest standardizzato (vedi punto precedente)<br>\n",
    "- Trasformare il dataset standardizzato tramite il modello *Isomap* fittato.<br>"
   ]
  },
  {
   "cell_type": "markdown",
   "metadata": {},
   "source": [
    "**11 - \\[\\*\\*\\]** \n",
    "- Creare un DataFrame *heart_iso* usando il dataset trasformato via Isomap. \n",
    "- I nomi delle feature dovranno essere ISO1, ISO2, ISO3."
   ]
  },
  {
   "cell_type": "markdown",
   "metadata": {},
   "source": [
    "**12 - \\[\\*\\*\\]** \n",
    "- Plottare una scatter matrix per il dataset.<br>\n",
    "- Individuare negli scatterplot le differenze di *target* tramite il colore dei punti.<br>\n",
    "\n",
    "> Suggerimento: usare *pd.plotting.scatter_matrix(...)* specificando negli argomenti *figsize = (10,10)*"
   ]
  },
  {
   "cell_type": "markdown",
   "metadata": {},
   "source": [
    "**13 - \\[\\*\\*\\]** \n",
    "- Dal dataset *heart* selezionare circa il 80% dei dati. Salvarli in un dataset *heart_train*\n",
    "\n",
    "**Bonus! - \\[\\*\\*\\*\\]** Dal dataset *heart* selezionare **casualmente** circa il 80% dei dati (con un margine massimo del 2%) e salvarlo in un dataset *heart_train*\n",
    "\n",
    "- Salvare i dati rimanenti in un dataset *heart_test*\n",
    "- Dal dataset *heart* estrapolare i dati di *target* corrispondenti alle righe selezionate per il dataset *heart_train* e salvarle in una serie *target_train*.\n",
    "- Salvare i valori rimanenti di *target* in una serie *target_test*"
   ]
  },
  {
   "cell_type": "markdown",
   "metadata": {},
   "source": [
    "**14 - \\[\\*\\*\\]** \n",
    "- Dal modulo *sklearn.tree* importare la classe *DecisionTreeClassifier*\n",
    "- Inizializzare un modello *DecisionTreeClassifier* inserendo tutti gli iperparametri richiesti, se necessario.\n",
    "- Fittare il modello usando il metodo **.FIT(X_train, Y_train)**\n",
    "- Valutare le performance del modello fittato usando il metodo **.SCORE(X_train, Y_train)**\n",
    "\n",
    "L'output del metodo *.score*, è una statistica di nome *mean accuracy*. Ha valori compresi tra 0 e 1, ed è una media delle accuracy sulle varie categorie di *target* rappresenta la capacità del modello di classificare le osservazioni. <br>\n",
    "In questo caso, rappresenta la percentuale di classificazione corretta del modello."
   ]
  },
  {
   "cell_type": "markdown",
   "metadata": {},
   "source": [
    "**15 - \\[\\*\\]**\n",
    "- Valutare il modello sul test dataset <br>\n",
    "\n",
    "> Suggerimento: usare il metodo *.score* del modello addestrato sul test dataset"
   ]
  },
  {
   "cell_type": "markdown",
   "metadata": {},
   "source": [
    "**16 - \\[\\*\\*\\]**\n",
    "- Ci sono delle feature non utili al modello? <br>\n",
    "\n",
    "> Suggerimento: usare l'attributo *.feature_importances_* del modello addestrato. Più è alto il peso, più importante è l'attributo"
   ]
  }
 ],
 "metadata": {
  "kernelspec": {
   "display_name": "Python 3",
   "language": "python",
   "name": "python3"
  },
  "language_info": {
   "codemirror_mode": {
    "name": "ipython",
    "version": 3
   },
   "file_extension": ".py",
   "mimetype": "text/x-python",
   "name": "python",
   "nbconvert_exporter": "python",
   "pygments_lexer": "ipython3",
   "version": "3.8.5"
  }
 },
 "nbformat": 4,
 "nbformat_minor": 4
}
