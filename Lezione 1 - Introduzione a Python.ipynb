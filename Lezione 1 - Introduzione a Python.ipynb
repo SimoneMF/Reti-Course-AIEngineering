{
 "cells": [
  {
   "cell_type": "markdown",
   "metadata": {},
   "source": [
    "# Introduzione a Python"
   ]
  },
  {
   "cell_type": "markdown",
   "metadata": {},
   "source": [
    "<br><br>\n",
    "### Primo approccio"
   ]
  },
  {
   "cell_type": "code",
   "execution_count": 1,
   "metadata": {},
   "outputs": [
    {
     "name": "stdout",
     "output_type": "stream",
     "text": [
      "Buongiorno a tutti\n"
     ]
    }
   ],
   "source": [
    "print(\"Buongiorno a tutti\")"
   ]
  },
  {
   "cell_type": "code",
   "execution_count": 2,
   "metadata": {
    "scrolled": true
   },
   "outputs": [
    {
     "name": "stdout",
     "output_type": "stream",
     "text": [
      "ah, no scusate, volevo dire: hello world !\n"
     ]
    }
   ],
   "source": [
    "# questo è un commento\n",
    "\n",
    "a = 'hello world' #questa è una variabile\n",
    "#il simbolo = viene usato per l'assegnazione del valore\n",
    "\n",
    "print(\"ah, no scusate, volevo dire:\", a,\"!\") #questa è una funzione"
   ]
  },
  {
   "cell_type": "code",
   "execution_count": 3,
   "metadata": {},
   "outputs": [
    {
     "name": "stdout",
     "output_type": "stream",
     "text": [
      "<class 'str'>\n",
      "<class 'int'>\n",
      "<class 'float'>\n",
      "<class 'builtin_function_or_method'>\n",
      "<class 'type'>\n"
     ]
    }
   ],
   "source": [
    "# ogni variabile ha un tipo\n",
    "print(type(a))\n",
    "\n",
    "b = 10\n",
    "print(type(b))\n",
    "\n",
    "c = 0.5\n",
    "print(type(c))\n",
    "\n",
    "# in generale ogni oggetto ha un tipo\n",
    "print(type(print))\n",
    "print(type(int))"
   ]
  },
  {
   "cell_type": "code",
   "execution_count": 4,
   "metadata": {},
   "outputs": [
    {
     "name": "stdout",
     "output_type": "stream",
     "text": [
      "Help on built-in function print in module builtins:\n",
      "\n",
      "print(...)\n",
      "    print(value, ..., sep=' ', end='\\n', file=sys.stdout, flush=False)\n",
      "    \n",
      "    Prints the values to a stream, or to sys.stdout by default.\n",
      "    Optional keyword arguments:\n",
      "    file:  a file-like object (stream); defaults to the current sys.stdout.\n",
      "    sep:   string inserted between values, default a space.\n",
      "    end:   string appended after the last value, default a newline.\n",
      "    flush: whether to forcibly flush the stream.\n",
      "\n"
     ]
    }
   ],
   "source": [
    "# esiste un help consultabile\n",
    "# per funzioni\n",
    "help(print)"
   ]
  },
  {
   "cell_type": "code",
   "execution_count": 5,
   "metadata": {},
   "outputs": [
    {
     "name": "stdout",
     "output_type": "stream",
     "text": [
      "Help on class int in module builtins:\n",
      "\n",
      "class int(object)\n",
      " |  int([x]) -> integer\n",
      " |  int(x, base=10) -> integer\n",
      " |  \n",
      " |  Convert a number or string to an integer, or return 0 if no arguments\n",
      " |  are given.  If x is a number, return x.__int__().  For floating point\n",
      " |  numbers, this truncates towards zero.\n",
      " |  \n",
      " |  If x is not a number or if base is given, then x must be a string,\n",
      " |  bytes, or bytearray instance representing an integer literal in the\n",
      " |  given base.  The literal can be preceded by '+' or '-' and be surrounded\n",
      " |  by whitespace.  The base defaults to 10.  Valid bases are 0 and 2-36.\n",
      " |  Base 0 means to interpret the base from the string as an integer literal.\n",
      " |  >>> int('0b100', base=0)\n",
      " |  4\n",
      " |  \n",
      " |  Built-in subclasses:\n",
      " |      bool\n",
      " |  \n",
      " |  Methods defined here:\n",
      " |  \n",
      " |  __abs__(self, /)\n",
      " |      abs(self)\n",
      " |  \n",
      " |  __add__(self, value, /)\n",
      " |      Return self+value.\n",
      " |  \n",
      " |  __and__(self, value, /)\n",
      " |      Return self&value.\n",
      " |  \n",
      " |  __bool__(self, /)\n",
      " |      self != 0\n",
      " |  \n",
      " |  __ceil__(...)\n",
      " |      Ceiling of an Integral returns itself.\n",
      " |  \n",
      " |  __divmod__(self, value, /)\n",
      " |      Return divmod(self, value).\n",
      " |  \n",
      " |  __eq__(self, value, /)\n",
      " |      Return self==value.\n",
      " |  \n",
      " |  __float__(self, /)\n",
      " |      float(self)\n",
      " |  \n",
      " |  __floor__(...)\n",
      " |      Flooring an Integral returns itself.\n",
      " |  \n",
      " |  __floordiv__(self, value, /)\n",
      " |      Return self//value.\n",
      " |  \n",
      " |  __format__(self, format_spec, /)\n",
      " |      Default object formatter.\n",
      " |  \n",
      " |  __ge__(self, value, /)\n",
      " |      Return self>=value.\n",
      " |  \n",
      " |  __getattribute__(self, name, /)\n",
      " |      Return getattr(self, name).\n",
      " |  \n",
      " |  __getnewargs__(self, /)\n",
      " |  \n",
      " |  __gt__(self, value, /)\n",
      " |      Return self>value.\n",
      " |  \n",
      " |  __hash__(self, /)\n",
      " |      Return hash(self).\n",
      " |  \n",
      " |  __index__(self, /)\n",
      " |      Return self converted to an integer, if self is suitable for use as an index into a list.\n",
      " |  \n",
      " |  __int__(self, /)\n",
      " |      int(self)\n",
      " |  \n",
      " |  __invert__(self, /)\n",
      " |      ~self\n",
      " |  \n",
      " |  __le__(self, value, /)\n",
      " |      Return self<=value.\n",
      " |  \n",
      " |  __lshift__(self, value, /)\n",
      " |      Return self<<value.\n",
      " |  \n",
      " |  __lt__(self, value, /)\n",
      " |      Return self<value.\n",
      " |  \n",
      " |  __mod__(self, value, /)\n",
      " |      Return self%value.\n",
      " |  \n",
      " |  __mul__(self, value, /)\n",
      " |      Return self*value.\n",
      " |  \n",
      " |  __ne__(self, value, /)\n",
      " |      Return self!=value.\n",
      " |  \n",
      " |  __neg__(self, /)\n",
      " |      -self\n",
      " |  \n",
      " |  __or__(self, value, /)\n",
      " |      Return self|value.\n",
      " |  \n",
      " |  __pos__(self, /)\n",
      " |      +self\n",
      " |  \n",
      " |  __pow__(self, value, mod=None, /)\n",
      " |      Return pow(self, value, mod).\n",
      " |  \n",
      " |  __radd__(self, value, /)\n",
      " |      Return value+self.\n",
      " |  \n",
      " |  __rand__(self, value, /)\n",
      " |      Return value&self.\n",
      " |  \n",
      " |  __rdivmod__(self, value, /)\n",
      " |      Return divmod(value, self).\n",
      " |  \n",
      " |  __repr__(self, /)\n",
      " |      Return repr(self).\n",
      " |  \n",
      " |  __rfloordiv__(self, value, /)\n",
      " |      Return value//self.\n",
      " |  \n",
      " |  __rlshift__(self, value, /)\n",
      " |      Return value<<self.\n",
      " |  \n",
      " |  __rmod__(self, value, /)\n",
      " |      Return value%self.\n",
      " |  \n",
      " |  __rmul__(self, value, /)\n",
      " |      Return value*self.\n",
      " |  \n",
      " |  __ror__(self, value, /)\n",
      " |      Return value|self.\n",
      " |  \n",
      " |  __round__(...)\n",
      " |      Rounding an Integral returns itself.\n",
      " |      Rounding with an ndigits argument also returns an integer.\n",
      " |  \n",
      " |  __rpow__(self, value, mod=None, /)\n",
      " |      Return pow(value, self, mod).\n",
      " |  \n",
      " |  __rrshift__(self, value, /)\n",
      " |      Return value>>self.\n",
      " |  \n",
      " |  __rshift__(self, value, /)\n",
      " |      Return self>>value.\n",
      " |  \n",
      " |  __rsub__(self, value, /)\n",
      " |      Return value-self.\n",
      " |  \n",
      " |  __rtruediv__(self, value, /)\n",
      " |      Return value/self.\n",
      " |  \n",
      " |  __rxor__(self, value, /)\n",
      " |      Return value^self.\n",
      " |  \n",
      " |  __sizeof__(self, /)\n",
      " |      Returns size in memory, in bytes.\n",
      " |  \n",
      " |  __sub__(self, value, /)\n",
      " |      Return self-value.\n",
      " |  \n",
      " |  __truediv__(self, value, /)\n",
      " |      Return self/value.\n",
      " |  \n",
      " |  __trunc__(...)\n",
      " |      Truncating an Integral returns itself.\n",
      " |  \n",
      " |  __xor__(self, value, /)\n",
      " |      Return self^value.\n",
      " |  \n",
      " |  as_integer_ratio(self, /)\n",
      " |      Return integer ratio.\n",
      " |      \n",
      " |      Return a pair of integers, whose ratio is exactly equal to the original int\n",
      " |      and with a positive denominator.\n",
      " |      \n",
      " |      >>> (10).as_integer_ratio()\n",
      " |      (10, 1)\n",
      " |      >>> (-10).as_integer_ratio()\n",
      " |      (-10, 1)\n",
      " |      >>> (0).as_integer_ratio()\n",
      " |      (0, 1)\n",
      " |  \n",
      " |  bit_length(self, /)\n",
      " |      Number of bits necessary to represent self in binary.\n",
      " |      \n",
      " |      >>> bin(37)\n",
      " |      '0b100101'\n",
      " |      >>> (37).bit_length()\n",
      " |      6\n",
      " |  \n",
      " |  conjugate(...)\n",
      " |      Returns self, the complex conjugate of any int.\n",
      " |  \n",
      " |  to_bytes(self, /, length, byteorder, *, signed=False)\n",
      " |      Return an array of bytes representing an integer.\n",
      " |      \n",
      " |      length\n",
      " |        Length of bytes object to use.  An OverflowError is raised if the\n",
      " |        integer is not representable with the given number of bytes.\n",
      " |      byteorder\n",
      " |        The byte order used to represent the integer.  If byteorder is 'big',\n",
      " |        the most significant byte is at the beginning of the byte array.  If\n",
      " |        byteorder is 'little', the most significant byte is at the end of the\n",
      " |        byte array.  To request the native byte order of the host system, use\n",
      " |        `sys.byteorder' as the byte order value.\n",
      " |      signed\n",
      " |        Determines whether two's complement is used to represent the integer.\n",
      " |        If signed is False and a negative integer is given, an OverflowError\n",
      " |        is raised.\n",
      " |  \n",
      " |  ----------------------------------------------------------------------\n",
      " |  Class methods defined here:\n",
      " |  \n",
      " |  from_bytes(bytes, byteorder, *, signed=False) from builtins.type\n",
      " |      Return the integer represented by the given array of bytes.\n",
      " |      \n",
      " |      bytes\n",
      " |        Holds the array of bytes to convert.  The argument must either\n",
      " |        support the buffer protocol or be an iterable object producing bytes.\n",
      " |        Bytes and bytearray are examples of built-in objects that support the\n",
      " |        buffer protocol.\n",
      " |      byteorder\n",
      " |        The byte order used to represent the integer.  If byteorder is 'big',\n",
      " |        the most significant byte is at the beginning of the byte array.  If\n",
      " |        byteorder is 'little', the most significant byte is at the end of the\n",
      " |        byte array.  To request the native byte order of the host system, use\n",
      " |        `sys.byteorder' as the byte order value.\n",
      " |      signed\n",
      " |        Indicates whether two's complement is used to represent the integer.\n",
      " |  \n",
      " |  ----------------------------------------------------------------------\n",
      " |  Static methods defined here:\n",
      " |  \n",
      " |  __new__(*args, **kwargs) from builtins.type\n",
      " |      Create and return a new object.  See help(type) for accurate signature.\n",
      " |  \n",
      " |  ----------------------------------------------------------------------\n",
      " |  Data descriptors defined here:\n",
      " |  \n",
      " |  denominator\n",
      " |      the denominator of a rational number in lowest terms\n",
      " |  \n",
      " |  imag\n",
      " |      the imaginary part of a complex number\n",
      " |  \n",
      " |  numerator\n",
      " |      the numerator of a rational number in lowest terms\n",
      " |  \n",
      " |  real\n",
      " |      the real part of a complex number\n",
      "\n"
     ]
    }
   ],
   "source": [
    "# e anche per classi\n",
    "help(int)"
   ]
  },
  {
   "cell_type": "markdown",
   "metadata": {},
   "source": [
    "<br><br><br><br>\n",
    "### Operazioni Matematiche"
   ]
  },
  {
   "cell_type": "code",
   "execution_count": 6,
   "metadata": {},
   "outputs": [
    {
     "name": "stdout",
     "output_type": "stream",
     "text": [
      "a + b = 12\n",
      "a * b = 20\n",
      "a - b = 8\n",
      "A - b = -2\n",
      "a / b = 5.0\n",
      "a / c = 3.3333333333333335\n",
      "a % b = 0\n",
      "a % c = 1\n",
      "a // b = 5\n",
      "a // c = 3\n",
      "a ** b = 100\n"
     ]
    }
   ],
   "source": [
    "a = 10 \n",
    "A = 0 # le variabili sono case sensitive\n",
    "b = 2\n",
    "c = 3\n",
    "\n",
    "print(\"a + b =\", a + b) # somma\n",
    "print(\"a * b =\", a * b) # moltiplicazione\n",
    "print(\"a - b =\", a - b) # differenza\n",
    "print(\"A - b =\", A - b) \n",
    "print(\"a / b =\", a / b) # divisione\n",
    "print(\"a / c =\", a / c) \n",
    "print(\"a % b =\", a % b) # modulo (o resto)\n",
    "print(\"a % c =\", a % c)\n",
    "print(\"a // b =\", a // b) # quoziente\n",
    "print(\"a // c =\", a // c)\n",
    "print(\"a ** b =\", a ** b) # elevazione a potenza"
   ]
  },
  {
   "cell_type": "code",
   "execution_count": 7,
   "metadata": {},
   "outputs": [
    {
     "name": "stdout",
     "output_type": "stream",
     "text": [
      "min(a, A, b, c) = 0\n",
      "max(a, A, b, c) = 10\n",
      "A - c = -3\n",
      "abs(A-c) = 3\n"
     ]
    }
   ],
   "source": [
    "print(\"min(a, A, b, c) =\", min(a, A, b, c)) # minimo\n",
    "print(\"max(a, A, b, c) =\", max(a, A, b, c)) # massimo\n",
    "print(\"A - c =\", A - c) \n",
    "print(\"abs(A-c) =\", abs(A - c)) # valore assoluto"
   ]
  },
  {
   "cell_type": "markdown",
   "metadata": {},
   "source": [
    "**Esercizio \\[\\*\\]:** Trovare la soluzione alla seguente espressione matematica: <br>\n",
    "\n",
    "\\begin{equation}\n",
    " \\frac{20}{3} \\cdot \\left( \\frac{3}{5} \\right)^{2} + \\left( 2 + \\frac{4}{5} \\right)^{2} : \\frac{14}{5} + \\sqrt{\\frac{169}{25}}\n",
    "\\end{equation}\n",
    "\n",
    "*Suggerimento 1*: $ \\sqrt{x} = x^{\\frac{1}{2}} $ <br>\n",
    "*Suggerimento 2*: usare solo le parentesi tonde, ad esempio: ((x+a)/x)\\*\\*2"
   ]
  },
  {
   "cell_type": "markdown",
   "metadata": {},
   "source": [
    "<br><br><br><br>\n",
    "### Espressioni logiche\n",
    "\n",
    "Le espressioni logiche restituiscono un valore booleano (*True* o *False*) a dipendenza del loro validità\n"
   ]
  },
  {
   "cell_type": "code",
   "execution_count": 8,
   "metadata": {},
   "outputs": [
    {
     "name": "stdout",
     "output_type": "stream",
     "text": [
      "c è uguale a b : False\n",
      "c è diverso da b : True\n",
      "a > b : True\n",
      "a < b : False\n",
      "a >= b : True\n",
      "a <= b : False\n"
     ]
    }
   ],
   "source": [
    "# operatori di confronto\n",
    "\n",
    "a = 10 \n",
    "b = 2\n",
    "c = 3\n",
    "print(\"c è uguale a b :\", c == b) # identità\n",
    "print(\"c è diverso da b :\", c != b) # non identità\n",
    "print(\"a > b :\", a > b) # maggiore\n",
    "print(\"a < b :\", a < b) # minore\n",
    "print(\"a >= b :\", a >= b) # maggiore o uguale\n",
    "print(\"a <= b :\", a <= b) # minore o uguale o uguale"
   ]
  },
  {
   "cell_type": "code",
   "execution_count": 9,
   "metadata": {},
   "outputs": [
    {
     "name": "stdout",
     "output_type": "stream",
     "text": [
      "condizione 1 è: False\n",
      "condizione 2 è: True\n",
      "condizione 1 AND condizione 2 : False\n",
      "condizione 1 AND condizione 2 : False\n",
      "condizione 1 OR condizione 2 : True\n",
      "condizione 1 OR condizione 2 : True\n",
      "opposto (o negazione) di condizione 1 : True\n"
     ]
    }
   ],
   "source": [
    "# operatori logici\n",
    "\n",
    "cond1 = (c == b)\n",
    "print(\"condizione 1 è:\", cond1)\n",
    "cond2 = (a >= b)\n",
    "print(\"condizione 2 è:\", cond2)\n",
    "\n",
    "print(\"condizione 1 AND condizione 2 :\", cond1 and cond2) # AND\n",
    "print(\"condizione 1 AND condizione 2 :\", cond1 & cond2) # AND\n",
    "\n",
    "print(\"condizione 1 OR condizione 2 :\", cond1 or cond2) # OR\n",
    "print(\"condizione 1 OR condizione 2 :\", cond1 | cond2) # OR\n",
    "\n",
    "print(\"opposto (o negazione) di condizione 1 :\", not cond1)"
   ]
  },
  {
   "cell_type": "code",
   "execution_count": 10,
   "metadata": {},
   "outputs": [
    {
     "name": "stdout",
     "output_type": "stream",
     "text": [
      "B or not A and B = False\n",
      "ma usando le parentesi i risultati possono cambiare!\n",
      "B or not (A and B) = True\n",
      "in sostanza, le parentesi riducono le ambiguità, usatele!\n"
     ]
    }
   ],
   "source": [
    "# espressioni logiche composte\n",
    "# è molto importante l'uso delle parentesi\n",
    "A = True\n",
    "B = False\n",
    "print(\"B or not A and B =\", B or not A and B)\n",
    "\n",
    "print(\"ma usando le parentesi i risultati possono cambiare!\")\n",
    "print(  \"B or not (A and B) =\", B or not (A and B) )\n",
    "print(\"in sostanza, le parentesi riducono le ambiguità, usatele!\")"
   ]
  },
  {
   "cell_type": "markdown",
   "metadata": {},
   "source": [
    "**Esercizio \\[\\*\\]:** supponendo che \n",
    "- $A = True$\n",
    "- $B = False$\n",
    "- $C = False$\n",
    "- $D = True$\n",
    "\n",
    "Valutare il valore delle seguenti espressioni logiche ($\\land =$ **and**, $\\lor =$ **or**, $\\lnot =$**not** ):\n",
    "\n",
    "- $\\left( A \\land B \\right) \\lor \\left( C \\lor D \\right)$\n",
    "- $\\left( \\lnot B \\land D \\land \\lnot C \\right) \\lor A$\n",
    "- $\\lnot \\left( C \\land D \\right) \\land \\lnot\\left(A \\lor B\\right)$\n"
   ]
  },
  {
   "cell_type": "markdown",
   "metadata": {},
   "source": [
    "<br><br><br><br>\n",
    "### IF conditions"
   ]
  },
  {
   "cell_type": "code",
   "execution_count": 11,
   "metadata": {},
   "outputs": [
    {
     "name": "stdout",
     "output_type": "stream",
     "text": [
      "Voto: 70.\n",
      "Test superato.\n",
      "Alla prossima.\n"
     ]
    }
   ],
   "source": [
    "voto_test = 70\n",
    "\n",
    "if voto_test >= 60: # IF condizione:\n",
    "    # l'indentazione in python è fondamentale\n",
    "    # a seguito dei \":\" tutto quello che è indentato viene considerato sotto IF  \n",
    "    print(\"Voto: \", voto_test,\".\", sep=\"\")\n",
    "    print(\"Test superato.\")  \n",
    "elif voto_test > 55:\n",
    "    print(\"Voto: \", voto_test,\".\", sep=\"\")   \n",
    "    print(\"Test lievemente insufficiente, necessaria riconferma via interrogazione orale.\")\n",
    "else:\n",
    "    print(\"Voto: \", voto_test,\".\",sep=\"\")\n",
    "    print(\"Test insufficiente, rimandato.\") \n",
    "\n",
    "print(\"Alla prossima.\") # non essendo indentato, viene eseguito a seguito della condizione IF\n",
    "\n",
    "# NOTA: SEP è un argomento della funzione PRINT, definisce il separatore da inserire tra le porzioni di stringa da stampare\n",
    "# di default SEP è uno spazio \" \", i questo caso voglio come separatore una stringa vuota \"\". \n",
    "# per approfondire usare help(print)  "
   ]
  },
  {
   "cell_type": "markdown",
   "metadata": {},
   "source": [
    "**Esercizio \\[\\*\\]**: assegnare un numero qualsiasi ad una variabile $x$ e scrivere un insieme di condizioni che dicano se $x$ è negativo, nullo o positivo"
   ]
  },
  {
   "cell_type": "markdown",
   "metadata": {},
   "source": [
    "<br><br><br><br>\n",
    "### WHILE and FOR loops"
   ]
  },
  {
   "cell_type": "markdown",
   "metadata": {},
   "source": [
    "Vogliamo stampare i primi $n$ numeri di Fibonacci (minimo 2)"
   ]
  },
  {
   "cell_type": "code",
   "execution_count": 12,
   "metadata": {},
   "outputs": [],
   "source": [
    "n=6 #n>=2"
   ]
  },
  {
   "cell_type": "code",
   "execution_count": 13,
   "metadata": {},
   "outputs": [
    {
     "name": "stdout",
     "output_type": "stream",
     "text": [
      "1 1 2 3 5 8 "
     ]
    }
   ],
   "source": [
    "#ciclo WHILE\n",
    "a=1\n",
    "b=1\n",
    "print(a, end = \" \") \n",
    "print(b, end = \" \")\n",
    "i=2 # ne ho gia stampati 2\n",
    "while i<n: # WHILE condizione:\n",
    "    c = a + b\n",
    "    print(c, end = \" \")\n",
    "    a=b\n",
    "    b=c\n",
    "    i=i+1\n",
    "    \n",
    "# NOTA: END è un argomento della funzione PRINT, definisce il separatore da inserire tra PRINT consecutivi\n",
    "# di default END è un \"a capo\",\"\\n \", in questo caso voglio che l'output venga in linea ma separato da uno spazio. \n",
    "# per approfondire usare help(print)  "
   ]
  },
  {
   "cell_type": "code",
   "execution_count": 14,
   "metadata": {},
   "outputs": [
    {
     "name": "stdout",
     "output_type": "stream",
     "text": [
      "1 1 2 3 5 8 "
     ]
    }
   ],
   "source": [
    "#ciclo FOR\n",
    "a=1\n",
    "b=1\n",
    "print(a, end = \" \")\n",
    "print(b, end = \" \")\n",
    "for i in range(2,n): #FOR iteratore IN insieme_di_valori_su_cui_iterare:\n",
    "    c = a + b\n",
    "    print(c, end = \" \")\n",
    "    a=b\n",
    "    b=c    \n",
    "\n",
    "#NOTA: la funzione RANGE(A,B) restituisce l'insieme di numeri interi tra A (incluso) e B (escluso).\n",
    "# Più avanti vedremo che l'oggetto restituito da RANGE è una lista."
   ]
  },
  {
   "cell_type": "markdown",
   "metadata": {},
   "source": [
    "**Esercizio \\[ \\]**: Come generalizzare la stampa dei numeri di Fibonacci ad un valore qualsiasi di $n$?\n",
    "\n",
    "esempi:\n",
    "- n = 0, output: *vuoto*\n",
    "- n = 1, output: *1*\n",
    "- n = 5, output: *1 1 2 3 5*\n",
    "\n",
    "<br>\n",
    "\n",
    "**Esercizio \\[\\*\\]**: assegnare un numero naturale a $x$ e scrivere un ciclo che stampi *in fila* **le prime 5 _potenze_ \n",
    "naturali a base $x$**\n",
    "\n",
    "esempi:\n",
    "- x = 0, output: 0 0 0 0 0\n",
    "- x = 1, output: 1 1 1 1 1 \n",
    "- x = 3, output: 1 3 9 27 81\n",
    "\n",
    "<br>\n",
    "\n",
    "**Esercizio \\[\\*\\*\\]**: assegnare un numero naturale a $x$ e scrivere un ciclo che stampi *in fila* **i primi 5 _numeri primi_ maggiori di $x$**\n",
    "\n",
    "esempi:\n",
    "- x = 0, output: 2 3 5 7 9\n",
    "- x = 5, output: 7 11 13 17 19 "
   ]
  },
  {
   "cell_type": "markdown",
   "metadata": {},
   "source": [
    "<br><br><br><br>\n",
    "### Function definition\n",
    "\n",
    "Vogliamo definire una **funzione _esito_** che, dato in input il voto del test, dica se lo studente ha passato, passato con riserva o fallito l'esame"
   ]
  },
  {
   "cell_type": "code",
   "execution_count": 15,
   "metadata": {},
   "outputs": [
    {
     "name": "stdout",
     "output_type": "stream",
     "text": [
      "Voto test: 70 . Test superato.\n"
     ]
    }
   ],
   "source": [
    "def esito(voto_test): #def nomefunzione(argomento1,argomento2,...,)\n",
    "    if voto_test >= 60:\n",
    "        print(\"Voto test:\", voto_test,\". Test superato.\")\n",
    "    elif voto_test >= 55:\n",
    "        print(\"Voto test:\", voto_test,\". Test lievemente insufficiente, necessaria riconferma via interrogazione orale.\")\n",
    "    else:\n",
    "        print(\"Voto test:\", voto_test,\". Test insufficiente, rimandato.\")\n",
    "    \n",
    "    return # una funzione può o meno restituire un valore. in queso caso non restituisce nulla.\n",
    "\n",
    "\n",
    "# una volta definita la funzione posso chiamarla inserendo tutti gli argomenti richiesti\n",
    "esito(70)"
   ]
  },
  {
   "cell_type": "markdown",
   "metadata": {},
   "source": [
    "Ora definiamo una funzione *voto_finale* che, dato in input il voto del test, dica se lo studente ha passato, passato con riserva o fallito l'esame, considerando anche **eventuali** punti bonus. La funzione deve restituire il voto finale."
   ]
  },
  {
   "cell_type": "code",
   "execution_count": 16,
   "metadata": {},
   "outputs": [
    {
     "name": "stdout",
     "output_type": "stream",
     "text": [
      "Voto test: 60 . Test superato.\n",
      "Lo studente A ha preso 60  al termine dell'esame\n",
      "Voto test: 50 . Test insufficiente, rimandato.\n",
      "Lo studente Z ha preso 50  al termine dell'esame\n"
     ]
    },
    {
     "data": {
      "text/plain": [
       "60"
      ]
     },
     "execution_count": 16,
     "metadata": {},
     "output_type": "execute_result"
    }
   ],
   "source": [
    "def voto_finale(voto_test, punti_bonus=0): #def nomefunzione(argomento1,argomento2,...,argomento_opzionale1 = valore1,...)\n",
    "    \n",
    "    voto = min(voto_test + punti_bonus, 100)\n",
    "    # abbiamo già definito una funzione che stampa gli esiti, usiamola all'interno di voto_finale per lo stesso scopo \n",
    "    esito(voto) \n",
    "    return voto # la funzione restituisce un valore\n",
    "\n",
    "# una volta definita la funzione posso chiamarla inserendo tutti gli argomenti richiesti\n",
    "voto_studente_A = voto_finale(50,10)\n",
    "# in questo caso l'output della funzione viene salvato nella variabile voto_studente_A\n",
    "print(\"Lo studente A ha preso\",voto_studente_A,\" al termine dell'esame\")\n",
    "\n",
    "# se non specificato, il parametro opzionale prende il valore assegnato di default\n",
    "voto_studente_Z = voto_finale(50)\n",
    "print(\"Lo studente Z ha preso\",voto_studente_Z,\" al termine dell'esame\")\n",
    "\n",
    "#NOTA: posso visualizzare a schermo anche senza usare il PRINT, restituendo un output\n",
    "voto_studente_A"
   ]
  },
  {
   "cell_type": "code",
   "execution_count": 17,
   "metadata": {},
   "outputs": [
    {
     "name": "stdout",
     "output_type": "stream",
     "text": [
      "Voto test: 71 . Test superato.\n",
      "Voto test: 100 . Test superato.\n"
     ]
    },
    {
     "data": {
      "text/plain": [
       "100"
      ]
     },
     "execution_count": 17,
     "metadata": {},
     "output_type": "execute_result"
    }
   ],
   "source": [
    "# come per le variabili, una volta definite le funzioni, possono essere chiamate nelle celle successive\n",
    "voto_studente_B = voto_finale(70,1)\n",
    "voto_studente_C = voto_finale(100,10)\n",
    "\n",
    "# NOTA: solo l'ultimo output eseguito verrà visualizzato \n",
    "voto_studente_B # non verrà visualizzato in output\n",
    "voto_studente_C # verrà visualizzato in output"
   ]
  },
  {
   "cell_type": "code",
   "execution_count": 18,
   "metadata": {},
   "outputs": [
    {
     "name": "stdout",
     "output_type": "stream",
     "text": [
      "Help on function Niente in module __main__:\n",
      "\n",
      "Niente()\n",
      "    questa funzione non fa niente\n",
      "\n"
     ]
    }
   ],
   "source": [
    "# possiamo definire un \"help\" anche per le nuove funzioni definite\n",
    "\n",
    "def Niente():\n",
    "    \"\"\" questa funzione non fa niente \"\"\"\n",
    "    return\n",
    "\n",
    "help(Niente)"
   ]
  },
  {
   "cell_type": "markdown",
   "metadata": {},
   "source": [
    "**Esercizio \\[\\*\\]**: Definire una funzione *StampaFibonacci* che, dato in input $n$, stampi i primi $n$ numeri di Fibonacci\n",
    "\n",
    "esempi di output:\n",
    "- n = 0, output: *vuoto*\n",
    "- n = 1, output: *1*\n",
    "- n = 5, output: *1 1 2 3 5*"
   ]
  },
  {
   "cell_type": "markdown",
   "metadata": {},
   "source": [
    "<br><br><br><br>\n",
    "### Liste e dizionari"
   ]
  },
  {
   "cell_type": "markdown",
   "metadata": {},
   "source": [
    "Posso definire collezioni di dati.\n",
    "- una *lista* è un insieme ordinato di elementi. Puoi accedere a un dato in una lista indicandone la *posizione*.\n",
    "- un *dizionario* è una collezione di binomio (chiave,valore). Puoi accedere ad un dato in un dizionario indicandone la *chiave*\n",
    "\n",
    "**Nota: l'indicizzazione in python parte da 0**"
   ]
  },
  {
   "cell_type": "markdown",
   "metadata": {},
   "source": [
    "<br><br>\n",
    "### Liste"
   ]
  },
  {
   "cell_type": "code",
   "execution_count": 19,
   "metadata": {},
   "outputs": [
    {
     "name": "stdout",
     "output_type": "stream",
     "text": [
      "Il primo elemento in lista A è: 4\n",
      "Il secondo elemento in lista A è: 5.0\n",
      "Il terzo elemento in lista A è: pere\n"
     ]
    }
   ],
   "source": [
    "A = [4,5.0, \"pere\"] # lista = [elem1, elem2, ...]\n",
    "\n",
    "print(\"Il primo elemento in lista A è:\", A[0]) # uso la posizione per ottenere l'elemento\n",
    "print(\"Il secondo elemento in lista A è:\", A[1])\n",
    "print(\"Il terzo elemento in lista A è:\", A[2])"
   ]
  },
  {
   "cell_type": "code",
   "execution_count": 20,
   "metadata": {
    "scrolled": true
   },
   "outputs": [
    {
     "name": "stdout",
     "output_type": "stream",
     "text": [
      "\n",
      "La lista A ha 3 elementi\n",
      "La lista B ha 0 elementi\n"
     ]
    }
   ],
   "source": [
    "print(\"\")\n",
    "B = [] # lista vuota\n",
    "#la funzione LEN(lista) restituisce il numero di elementi\n",
    "print(\"La lista A ha\", len(A), \"elementi\")\n",
    "print(\"La lista B ha\", len(B), \"elementi\")"
   ]
  },
  {
   "cell_type": "code",
   "execution_count": 21,
   "metadata": {},
   "outputs": [
    {
     "name": "stdout",
     "output_type": "stream",
     "text": [
      "[0, 1, 2, 3, 4]\n",
      "[0, 1, 2, 3, 4]\n",
      "[2, 3, 4, 5, 6]\n",
      "[6, 8, 10, 12, 14]\n"
     ]
    }
   ],
   "source": [
    "# con RANGE si possono definire volecemente delle liste di dimensione desiderata\n",
    "A = [*range(5)] # lista con numeri da 0 a 5 con step 1\n",
    "print(A)\n",
    "\n",
    "A2 = list(range(5))\n",
    "print(A2)\n",
    "\n",
    "B = [*range(2,7)]# lista con numeri da 2 a 7 con step 1\n",
    "print(B)\n",
    "\n",
    "C = [*range(6,16,2)] # lista con numeri da 6 a 10 con step 2\n",
    "print(C)\n",
    "\n",
    "#NOTA1: RANGE è una funzione che NON crea una lista, ma un oggetto RANGE, molto simile ad una lista. \n",
    "#Quello che fa questo codice è creare oggetti range e convertirli a liste\n",
    "\n",
    "#NOTA2: molto più di frequente vi troverete ad usare oggetti RANGE per comodità piuttosto che liste"
   ]
  },
  {
   "cell_type": "code",
   "execution_count": 22,
   "metadata": {},
   "outputs": [
    {
     "name": "stdout",
     "output_type": "stream",
     "text": [
      "I primi 3 elementi di D sono [1, 1, 2]\n",
      "Gli ultimi 3 elementi di D sono [5, 8, 13]\n"
     ]
    }
   ],
   "source": [
    "# posso anche selezionare un insieme di elementi indicando l'intervallo delle posizioni \n",
    "# (prima posizione inclusa, ultima esclusa)\n",
    "D = [1,1,2,3,5,8,13] \n",
    "print(\"I primi 3 elementi di D sono\", D[0:3],)\n",
    "print(\"Gli ultimi 3 elementi di D sono\", D[len(D)-3:len(D)])"
   ]
  },
  {
   "cell_type": "code",
   "execution_count": 23,
   "metadata": {},
   "outputs": [
    {
     "name": "stdout",
     "output_type": "stream",
     "text": [
      "L'ultimo elemento di D è 13\n",
      "Il penultimo elemento di D è 8\n"
     ]
    }
   ],
   "source": [
    "# si possono usare anche le posizioni negative\n",
    "print(\"L'ultimo elemento di D è\", D[-1])\n",
    "print(\"Il penultimo elemento di D è\", D[-2])"
   ]
  },
  {
   "cell_type": "code",
   "execution_count": 24,
   "metadata": {},
   "outputs": [
    {
     "name": "stdout",
     "output_type": "stream",
     "text": [
      "[1, 2, 3]\n",
      "[1, 2, 'pere']\n",
      "[[5, 6], 2, 'pere']\n"
     ]
    }
   ],
   "source": [
    "# posso sostituire un elemento in lista con qualsiasi altro elemento\n",
    "A = [1,2,3]\n",
    "print(A)\n",
    "A[2] = \"pere\"\n",
    "print(A)\n",
    "A[0] = [5,6] # posso anche assegnare liste!\n",
    "print(A)"
   ]
  },
  {
   "cell_type": "markdown",
   "metadata": {},
   "source": [
    "**Esercizio \\[\\*\\]:** scrivere una funzione *Tabellina($B$,$N$)* che restituisca una lista dei primi $N$ numeri della tabellina di $B$\n",
    "\n",
    "*esempio 1*: <br>\n",
    "Lista = Tabellina(3,5)<br>\n",
    "print(Lista)\n",
    "- output: <br>\n",
    "\\[0, 3, 6, 9, 12\\]\n",
    "<br>\n",
    "\n",
    "*esempio 2*: <br>\n",
    "Lista = Tabellina(2,10)<br>\n",
    "print(Lista)\n",
    "- output: <br>\n",
    "\\[0, 2, 4, 6, 8, 10, 12, 14, 16 ,18\\]\n",
    "\n",
    "**Bonus! \\[\\*\\*\\*\\]:** Implementarla in una sola riga (escluso *def* e *return*)"
   ]
  },
  {
   "cell_type": "markdown",
   "metadata": {},
   "source": [
    "<br><br><br><br>\n",
    "### Dizionari"
   ]
  },
  {
   "cell_type": "code",
   "execution_count": 25,
   "metadata": {},
   "outputs": [
    {
     "name": "stdout",
     "output_type": "stream",
     "text": [
      "L'elemento \"primo\" in dizionario C è: 10\n",
      "L'elemento \"secondo\" in dizionario C è: mele\n",
      "L'elemento 3 in dizionario C è: 6.0\n"
     ]
    }
   ],
   "source": [
    "C = {\"primo\":10, \"secondo\":\"mele\", 3:6.0 } # dizionario = {chiave1:valore1, chiave2:valore2, ...}\n",
    "\n",
    "print(\"L'elemento \\\"primo\\\" in dizionario C è:\", C[\"primo\"]) # uso la chiave per ottenere il valore\n",
    "print(\"L'elemento \\\"secondo\\\" in dizionario C è:\", C[\"secondo\"])\n",
    "print(\"L'elemento 3 in dizionario C è:\", C[3])"
   ]
  },
  {
   "cell_type": "code",
   "execution_count": 26,
   "metadata": {},
   "outputs": [
    {
     "name": "stdout",
     "output_type": "stream",
     "text": [
      "\n",
      "il dizionario C ha 3 elementi\n",
      "il dizionario D ha 0 elementi\n"
     ]
    }
   ],
   "source": [
    "print(\"\")\n",
    "D = {} # dizionario vuoto\n",
    "#la funzione LEN(dizionario) restituisce il numero di elementi\n",
    "print(\"il dizionario C ha\", len(C), \"elementi\")\n",
    "print(\"il dizionario D ha\", len(D), \"elementi\")"
   ]
  },
  {
   "cell_type": "code",
   "execution_count": 27,
   "metadata": {},
   "outputs": [
    {
     "name": "stdout",
     "output_type": "stream",
     "text": [
      "\n",
      "ora il dizionario D ha 2 elementi\n",
      "L'elemento \"chiave1\" in dizionario D è: ciao\n",
      "L'elemento \"chiave2\" in dizionario D è: 7.6\n"
     ]
    }
   ],
   "source": [
    "print(\"\")\n",
    "#è possibile aggiungere nuovi elementi alla lista assegnando un valore ad una nuova chiave\n",
    "D[\"chiave1\"] = \"ciao\"\n",
    "D[\"chiave2\"] = 7.6\n",
    "print(\"ora il dizionario D ha\", len(D), \"elementi\")\n",
    "print(\"L'elemento \\\"chiave1\\\" in dizionario D è:\", D[\"chiave1\"])\n",
    "print(\"L'elemento \\\"chiave2\\\" in dizionario D è:\", D[\"chiave2\"])"
   ]
  },
  {
   "cell_type": "code",
   "execution_count": 28,
   "metadata": {},
   "outputs": [
    {
     "name": "stdout",
     "output_type": "stream",
     "text": [
      "dict_keys(['uno', 'due'])\n",
      "dict_values([1, 2])\n"
     ]
    }
   ],
   "source": [
    "D = {\"uno\":1, \"due\":2}\n",
    "\n",
    "# posso trovare la lista di chiavi in un dizionario \n",
    "chiavi = D.keys()\n",
    "print(chiavi)\n",
    "\n",
    "# e anche i soli valori\n",
    "valori = D.values()\n",
    "print(valori)"
   ]
  },
  {
   "cell_type": "markdown",
   "metadata": {},
   "source": [
    "#### Esercizi svolti - Matrici"
   ]
  },
  {
   "cell_type": "code",
   "execution_count": 29,
   "metadata": {},
   "outputs": [
    {
     "name": "stdout",
     "output_type": "stream",
     "text": [
      "Matrice M: [[1, 2, 3], [4, 5, 6]]\n",
      "prima riga di M (ovvero riga 0): [1, 2, 3]\n",
      "elemento alla riga 0 e colonna 1 di M: 2\n"
     ]
    }
   ],
   "source": [
    "# possiamo usare le liste di liste per definire delle matrici\n",
    "\n",
    "A = [1,2,3]\n",
    "B = [4,5,6]\n",
    "\n",
    "M = [A,B]\n",
    "\n",
    "print(\"Matrice M:\", M)\n",
    "print(\"prima riga di M (ovvero riga 0):\",M[0]) # M è una lista di liste, quindi M[0] è una lista\n",
    "print(\"elemento alla riga 0 e colonna 1 di M:\", M[0][1]) \n",
    "# M[0][1] vuol dire: dalla lista M[0] prendi l'elemento alla posizione 1"
   ]
  },
  {
   "cell_type": "markdown",
   "metadata": {},
   "source": [
    "**Esercizio svolto**: Definisco una funzione che stampa una matrice rettangolare (assumendo una matrice ben definita con dimensioni n,m>=1)\n"
   ]
  },
  {
   "cell_type": "code",
   "execution_count": 30,
   "metadata": {},
   "outputs": [],
   "source": [
    "def stampa_matrice(Matrice):\n",
    "    N=len(Matrice)\n",
    "    M=len(Matrice[0])\n",
    "    print(\"[ \",end=\"\")\n",
    "    for i in range(N):\n",
    "        for j in range(M):\n",
    "            print(Matrice[i][j], end=\" \")\n",
    "        if (i+1)*(j+1) == N*M:\n",
    "            print(\"]\")\n",
    "        else:\n",
    "            print(\"\")\n",
    "            print(\"  \", end=\"\")\n",
    "    return"
   ]
  },
  {
   "cell_type": "code",
   "execution_count": 31,
   "metadata": {},
   "outputs": [
    {
     "name": "stdout",
     "output_type": "stream",
     "text": [
      "[ 1 2 4 \n",
      "  5 6 7 ]\n"
     ]
    }
   ],
   "source": [
    "A = [1,1,1]\n",
    "B = [2,4,6]\n",
    "M = [A,B]\n",
    "M = [[1,2,4],[5,6,7]]\n",
    "stampa_matrice(M)"
   ]
  },
  {
   "cell_type": "markdown",
   "metadata": {},
   "source": [
    "**Esercizio \\[\\*\\*\\]**: Dato $N$ numero di righe e $M$ di colonne, definire una funzione *MatCons($N$,$M$)* che restituisce una matrice *Mat* (intesa come lista di liste) di numeri progressivi.\n",
    "\n",
    "*esempio 1*: <br>\n",
    "stampa_matrice(MatCons(2,3))\n",
    "- output:<br>\n",
    "\\[ 1 2 3 <br>\n",
    "   4 5 6 \\]\n",
    "\n",
    "*esempio 2*: <br>\n",
    "stampa_matrice(MatCons(3,4))\n",
    "- output:<br>\n",
    "\\[ 1 2 3 4 <br>\n",
    "   5 6 7 8 <br>\n",
    "   9 10 11 12\\]\n",
    "\n",
    "*(!) esempio 3*: <br>\n",
    "stampa_matrice(MatCons(1,1))\n",
    "- output:<br>\n",
    "\\[ 1 \\]\n",
    "\n",
    "*Suggerimento:* nella funzione, inizia definendo *Mat* = list(range($N$))"
   ]
  },
  {
   "cell_type": "markdown",
   "metadata": {},
   "source": [
    "<br><br><br><br>\n",
    "### Basi di programmazione ad oggetti"
   ]
  },
  {
   "cell_type": "markdown",
   "metadata": {},
   "source": [
    "Python è un programma object oriented. Quindi si possono definire nuovi oggetti tramite le classi.<br>\n",
    "Una classe è l'insieme degli attributi (variabili) e metodi (funzioni) che determinano il funzionamento dell'oggetto."
   ]
  },
  {
   "cell_type": "code",
   "execution_count": 33,
   "metadata": {},
   "outputs": [],
   "source": [
    "class Saluto:\n",
    "    tipo = \"ciao\"\n",
    "    def saluta():\n",
    "        print (\"Buongiorno!\")"
   ]
  },
  {
   "cell_type": "code",
   "execution_count": 34,
   "metadata": {},
   "outputs": [
    {
     "name": "stdout",
     "output_type": "stream",
     "text": [
      "ciao\n",
      "Buongiorno!\n"
     ]
    }
   ],
   "source": [
    "print(Saluto.tipo) # stampo l'attributo TIPO della classe Saluto\n",
    "Saluto.saluta() # chiamo il metodo SALUTA della classe Saluta"
   ]
  },
  {
   "cell_type": "code",
   "execution_count": 35,
   "metadata": {},
   "outputs": [],
   "source": [
    "class Pacco:\n",
    "    mittente = \"\"\n",
    "    destinatario = \"\"\n",
    "    CAP = \"\"\n",
    "\n",
    "# Per comodità definisco una funzione che mi stampa le caratteristiche dell'oggetto Pacco\n",
    "def StampaPacco(pacco):\n",
    "    print(\"Mittente:\", pacco.mittente)\n",
    "    print(\"Destinatario:\", pacco.destinatario)\n",
    "    print(\"CAP:\", pacco.CAP)"
   ]
  },
  {
   "cell_type": "code",
   "execution_count": 36,
   "metadata": {},
   "outputs": [
    {
     "name": "stdout",
     "output_type": "stream",
     "text": [
      "Mittente: \n",
      "Destinatario: \n",
      "CAP: \n"
     ]
    }
   ],
   "source": [
    "B = Pacco() # creo B un nuovo pacco\n",
    "StampaPacco(B) #tale pacco ha le credenziali standard presenti nella definizione di classe"
   ]
  },
  {
   "cell_type": "code",
   "execution_count": 37,
   "metadata": {},
   "outputs": [
    {
     "name": "stdout",
     "output_type": "stream",
     "text": [
      "Mittente: Simone\n",
      "Destinatario: Andrea\n",
      "CAP: 21210\n"
     ]
    }
   ],
   "source": [
    "# posso modificarle per renderla adatta allo scopo\n",
    "B.mittente = \"Simone\"\n",
    "B.destinatario = \"Andrea\"\n",
    "B.CAP = 21210\n",
    "\n",
    "StampaPacco(B)"
   ]
  },
  {
   "cell_type": "code",
   "execution_count": 38,
   "metadata": {},
   "outputs": [],
   "source": [
    "# Ma come si può fare in modo che un oggetto venga creato a partire dalle caratteristiche?\n",
    "# definisco la funzione __init__ che verrá chiamata ad ogni creazione di un nuovo oggetto\n",
    "class Pacco2:\n",
    "    def __init__(self,mitt=\"\",dest=\"\",CAP=\"\"):\n",
    "        self.mittente = mitt\n",
    "        self.destinatario = dest\n",
    "        self.CAP = CAP\n",
    "#NOTA: usare sempre il SELF come primo input per i metodi"
   ]
  },
  {
   "cell_type": "code",
   "execution_count": 39,
   "metadata": {},
   "outputs": [
    {
     "name": "stdout",
     "output_type": "stream",
     "text": [
      "Mittente: Simone\n",
      "Destinatario: Andrea\n",
      "CAP: 21210\n"
     ]
    }
   ],
   "source": [
    "# in questo caso possiamo inserire già le specifiche del pacco al momento della creazione\n",
    "B2 = Pacco2(\"Simone\", \"Andrea\", 21210)\n",
    "StampaPacco(B2) \n",
    "# anche se è cambiata la classe, le caratteristiche sono le stesse, \n",
    "# quindi la funzione di stampa funziona correttamente"
   ]
  },
  {
   "cell_type": "code",
   "execution_count": 40,
   "metadata": {},
   "outputs": [
    {
     "name": "stdout",
     "output_type": "stream",
     "text": [
      "Mittente: \n",
      "Destinatario: \n",
      "CAP: \n",
      "\n",
      "Mittente: \n",
      "Destinatario: \n",
      "CAP: 0000\n",
      "\n",
      "Mittente: \n",
      "Destinatario: gianluigi\n",
      "CAP: \n"
     ]
    }
   ],
   "source": [
    "# avendo utilizzato in __init__ degli argomenti opzionali, possiamo ancora creare un Pacco standard\n",
    "# semplicemente non inserendo nessuna caratteristica\n",
    "STD2 = Pacco2()\n",
    "StampaPacco(STD2)\n",
    "print(\"\")\n",
    "# Possiamo dare anche in input una sola caratteristica specificando il nome dell'input\n",
    "soloCAP = Pacco2(CAP=\"0000\")\n",
    "StampaPacco(soloCAP)\n",
    "print(\"\")\n",
    "soloDEST = Pacco2(dest=\"gianluigi\")\n",
    "StampaPacco(soloDEST)"
   ]
  },
  {
   "cell_type": "code",
   "execution_count": 41,
   "metadata": {},
   "outputs": [],
   "source": [
    "# Visto che StampaPacco è una funzione dedicata alla classe Pacco, possiamo definire un metodo\n",
    "# per la classe \n",
    "class Pacco3:\n",
    "    \n",
    "    def __init__(self,mittente=\"\",destinatario=\"\",CAP=\"\"):\n",
    "        self.mittente = mittente\n",
    "        self.destinatario = destinatario\n",
    "        self.CAP = CAP\n",
    "    \n",
    "    def stampa(self):\n",
    "        print(\"Mittente:\", self.mittente)\n",
    "        print(\"Destinatario:\", self.destinatario)\n",
    "        print(\"CAP:\", self.CAP)"
   ]
  },
  {
   "cell_type": "code",
   "execution_count": 42,
   "metadata": {},
   "outputs": [
    {
     "name": "stdout",
     "output_type": "stream",
     "text": [
      "Mittente: Simone\n",
      "Destinatario: Andrea\n",
      "CAP: 21210\n"
     ]
    }
   ],
   "source": [
    "B3 = Pacco3(\"Simone\", \"Andrea\", 21210)\n",
    "B3.stampa() # il SELF non va specificato, B3 è già il primo (e unico) input della funzione"
   ]
  },
  {
   "cell_type": "markdown",
   "metadata": {},
   "source": [
    "**Esercizio \\[\\*\\]** Definire una classe *Prodotto* che abbia le seguenti attributi:\n",
    "- code : codice prodotto (stringa di 5 char)\n",
    "- x = larghezza (cm)\n",
    "- y = altezza (cm)\n",
    "- z = profondità (cm)\n",
    "\n",
    "e un metodo *volume* che calcola e stampa il volume del prodotto.<br>\n",
    "Tutti gli argomenti devono essere inseriti al momento della creazione dell'oggetto\n",
    "\n",
    "<br>\n",
    "\n",
    "**Esercizio \\[\\*\\*\\]**: Creare una classe *Matrice* che venga definita a partire da una **lista di liste che possa rappresentare una matrice** (vedi esercizi svolti) e la salvi nell'attributo *data*.<br>\n",
    "Implementare nella classe i seguenti metodi:\n",
    "- nrows(): resituisce il numero delle righe\n",
    "- ncols(): restituisce il numero di colonne\n",
    "- row(n): restituisce la riga *n* (con n$\\in [0,N-1]$) sotto forma di lista\n",
    "- display: stampa la matrice nel formato bidimensionale (vedi stampa_matrice in esercizi svolti)\n",
    "\n",
    "\n",
    "**Bonus! \\[\\*\\*\\*\\]**: implementare per la classe *Matrice* anche il seguente metodo:\n",
    "- col(m): restituisce la colonna *m* (con m$\\in [0,M-1]$) sotto forma di lista\n",
    "\n",
    "*Suggerimenti:* \n",
    "1) per creare una lista vuota:\n",
    "- empty_list = \\[\\]<br>\n",
    "\n",
    "2) per aggiungere un elemento *y* in coda alla lista *x*:\n",
    "- x.append(y)\n"
   ]
  },
  {
   "cell_type": "markdown",
   "metadata": {},
   "source": [
    "<br><br><br><br>\n",
    "### Importare librerie"
   ]
  },
  {
   "cell_type": "markdown",
   "metadata": {},
   "source": [
    "Come abbiamo potuto constatare, implementare classi aumenta notevolmente le possibilità di python. Esistono delle librerie di classi già pronte all'uso.<br>"
   ]
  },
  {
   "cell_type": "code",
   "execution_count": 44,
   "metadata": {},
   "outputs": [
    {
     "name": "stdout",
     "output_type": "stream",
     "text": [
      "Help on method uniform in module random:\n",
      "\n",
      "uniform(a, b) method of random.Random instance\n",
      "    Get a random number in the range [a, b) or [a, b] depending on rounding.\n",
      "\n"
     ]
    }
   ],
   "source": [
    "#help(random)\n",
    "import random as rd\n",
    "help(rd.uniform)"
   ]
  },
  {
   "cell_type": "markdown",
   "metadata": {},
   "source": [
    "Altre librerie invece vanno prima installate tramite conda per essere usate.<br>\n",
    "Una volta chiuso il jupyter notebook, nell'ambiente che desiderate installare la libreria *nomelibreria* digitare nel prompt:\n",
    "- conda install *nomelibreria*\n",
    "\n",
    "oppure, se necessaria una versione particolare:\n",
    "- conda install *nomelibreria*=*codiceversione*\n"
   ]
  },
  {
   "cell_type": "code",
   "execution_count": 45,
   "metadata": {},
   "outputs": [],
   "source": [
    "import numpy"
   ]
  },
  {
   "cell_type": "code",
   "execution_count": 1,
   "metadata": {},
   "outputs": [],
   "source": [
    "import pandas as pd"
   ]
  }
 ],
 "metadata": {
  "kernelspec": {
   "display_name": "Python 3",
   "language": "python",
   "name": "python3"
  },
  "language_info": {
   "codemirror_mode": {
    "name": "ipython",
    "version": 3
   },
   "file_extension": ".py",
   "mimetype": "text/x-python",
   "name": "python",
   "nbconvert_exporter": "python",
   "pygments_lexer": "ipython3",
   "version": "3.8.5"
  }
 },
 "nbformat": 4,
 "nbformat_minor": 4
}
