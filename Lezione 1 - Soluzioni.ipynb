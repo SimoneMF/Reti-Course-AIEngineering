{
 "cells": [
  {
   "cell_type": "markdown",
   "metadata": {},
   "source": [
    "# Introduzione a Python: Soluzioni"
   ]
  },
  {
   "cell_type": "markdown",
   "metadata": {},
   "source": [
    "<br><br><br>\n",
    "**Esercizio \\[\\*\\]:** Trovare la soluzione alla seguente espressione matematica: <br>\n",
    "\n",
    "\\begin{equation}\n",
    " \\frac{20}{3} \\cdot \\left( \\frac{3}{5} \\right)^{2} + \\left( 2 + \\frac{4}{5} \\right)^{2} : \\frac{14}{5} + \\sqrt{\\frac{169}{25}}\n",
    "\\end{equation}\n",
    "\n",
    "*Suggerimento 1*: $ \\sqrt{x} = x^{\\frac{1}{2}} $ <br>\n",
    "*Suggerimento 2*: usare solo le parentesi tonde, ad esempio: ((x+a)/x)\\*\\*2"
   ]
  },
  {
   "cell_type": "code",
   "execution_count": 6,
   "metadata": {},
   "outputs": [
    {
     "name": "stdout",
     "output_type": "stream",
     "text": [
      "7.799999999999999\n"
     ]
    }
   ],
   "source": [
    "print((20/3)*(3/5)**2+(2+4/5)**2/(14/5) + (169/25)**(0.5))"
   ]
  },
  {
   "cell_type": "markdown",
   "metadata": {},
   "source": [
    "<br><br><br>\n",
    "**Esercizio \\[\\*\\]:** supponendo che \n",
    "- $A = True$\n",
    "- $B = False$\n",
    "- $C = False$\n",
    "- $D = True$\n",
    "\n",
    "Valutare il valore delle seguenti espressioni logiche ($\\land =$ **and**, $\\lor =$ **or**, $\\lnot =$**not** ):\n",
    "\n",
    "- $\\left( A \\land B \\right) \\lor \\left( C \\lor D \\right)$\n",
    "- $\\left( \\lnot B \\land D \\land \\lnot C \\right) \\lor A$\n",
    "- $\\lnot \\left( C \\land D \\right) \\land \\lnot\\left(A \\lor B\\right)$\n"
   ]
  },
  {
   "cell_type": "code",
   "execution_count": 2,
   "metadata": {},
   "outputs": [
    {
     "name": "stdout",
     "output_type": "stream",
     "text": [
      "True\n",
      "True\n",
      "False\n"
     ]
    }
   ],
   "source": [
    "A = True\n",
    "B = False\n",
    "C = False\n",
    "D = True\n",
    "\n",
    "print( (A and B) or (C or D) )\n",
    "print( ((not B) and D and (not C)) or A )\n",
    "print( not(C and D) and not(A or B) )\n"
   ]
  },
  {
   "cell_type": "markdown",
   "metadata": {},
   "source": [
    "<br><br><br>\n",
    "**Esercizio \\[\\*\\]**: assegnare un numero qualsiasi ad una variabile $x$ e scrivere un insieme di condizioni che dicano se $x$ è negativo, nullo o positivo"
   ]
  },
  {
   "cell_type": "code",
   "execution_count": 6,
   "metadata": {},
   "outputs": [
    {
     "name": "stdout",
     "output_type": "stream",
     "text": [
      "x=0: é il numero nullo\n"
     ]
    }
   ],
   "source": [
    "x = 0\n",
    "\n",
    "if x<0:\n",
    "    print(\"x=\",x,\": é un numero negativo\", sep = \"\")\n",
    "elif x==0:\n",
    "    print(\"x=\",x,\": é il numero nullo\", sep = \"\")\n",
    "else:\n",
    "    print(\"x=\",x,\": é un numero positivo\", sep = \"\")"
   ]
  },
  {
   "cell_type": "markdown",
   "metadata": {},
   "source": [
    "<br><br><br>\n",
    "**Esercizio \\[\\*\\]** Il seguente script: \n",
    ">N = 6 <br>\n",
    ">a=1 <br>\n",
    ">b=1 <br>\n",
    ">print(a, end = \" \") <br>\n",
    ">print(b, end = \" \") <br>\n",
    ">for i in range(2,N): <br>\n",
    ">$\\qquad$ c = a + b <br>\n",
    ">$\\qquad$    print(c, end = \" \") <br>\n",
    ">$\\qquad$    a=b <br>\n",
    ">$\\qquad$    b=c <br>\n",
    "\n",
    "stampa i primi $N$ numeri di Fibonacci, ma con $N$>2.<br>\n",
    "\n",
    "come generalizzare la stampa dei numeri di Fibonacci ad un valore qualsiasi di $N$?\n",
    "\n",
    "esempi:\n",
    "- $N = 0$, output: *vuoto*\n",
    "- $N = 1$, output: *1*\n",
    "- $N = 5$, output: *1 1 2 3 5*"
   ]
  },
  {
   "cell_type": "code",
   "execution_count": 16,
   "metadata": {},
   "outputs": [
    {
     "name": "stdout",
     "output_type": "stream",
     "text": [
      "1 1 2 3 5 "
     ]
    }
   ],
   "source": [
    "N = 5\n",
    "if N >= 1 :\n",
    "    a = 1\n",
    "    print(a, end = \" \")\n",
    "if N >=2 :\n",
    "    b = 1\n",
    "    print(b, end = \" \")\n",
    "for i in range(2,N):\n",
    "    c = a + b\n",
    "    print(c, end = \" \")\n",
    "    a=b\n",
    "    b=c  "
   ]
  },
  {
   "cell_type": "markdown",
   "metadata": {},
   "source": [
    "<br><br><br>\n",
    "**Esercizio \\[\\*\\]**: assegnare un numero naturale a $x$ e scrivere un ciclo che stampi *in fila* **le prime 5 _potenze_ \n",
    "naturali a base $x$**\n",
    "\n",
    "esempi:\n",
    "- x = 0, output: 0 0 0 0 0\n",
    "- x = 1, output: 1 1 1 1 1 \n",
    "- x = 3, output: 1 3 9 27 81\n"
   ]
  },
  {
   "cell_type": "code",
   "execution_count": 26,
   "metadata": {},
   "outputs": [
    {
     "name": "stdout",
     "output_type": "stream",
     "text": [
      "1 3 9 27 81 "
     ]
    }
   ],
   "source": [
    "x = 3\n",
    "for i in range(5): #FOR iteratore IN insieme_di_valori_su_cui_iterare:\n",
    "    if i == 0 and x == 0:\n",
    "        print(0, end = \" \")\n",
    "    else:\n",
    "        print(x**i, end = \" \")"
   ]
  },
  {
   "cell_type": "markdown",
   "metadata": {},
   "source": [
    "<br><br><br>\n",
    "**Esercizio \\[\\*\\*\\]**: assegnare un numero naturale a $x$ e scrivere un ciclo che stampi *in fila* **i primi 5 _numeri primi_ maggiori di $x$**\n",
    "\n",
    "esempi:\n",
    "- x = 0, output: 2 3 5 7 9\n",
    "- x = 5, output: 7 11 13 17 19 "
   ]
  },
  {
   "cell_type": "code",
   "execution_count": 34,
   "metadata": {},
   "outputs": [
    {
     "name": "stdout",
     "output_type": "stream",
     "text": [
      "15069433 15069443 15069449 15069493 15069499 "
     ]
    }
   ],
   "source": [
    "x = 15069430\n",
    "i = 0\n",
    "\n",
    "while i<5:\n",
    "    if x < 2:\n",
    "        x = 2\n",
    "        print(x, end = \" \")\n",
    "        i=i+1\n",
    "    x = x+1\n",
    "    d = 2\n",
    "    while d<x-1 and not(x%d == 0):\n",
    "        d = d+1\n",
    "    if not(x%d==0):\n",
    "        i = i+1\n",
    "        print(x, end = \" \")"
   ]
  },
  {
   "cell_type": "code",
   "execution_count": 35,
   "metadata": {},
   "outputs": [
    {
     "name": "stdout",
     "output_type": "stream",
     "text": [
      "15069433 15069443 15069449 15069493 15069499 "
     ]
    }
   ],
   "source": [
    "# versione più efficiente:\n",
    "# se 2 è il primo fattore, il MASSIMO fattore per x sarà x/2\n",
    "# se 3 è il primo fattore, il MASSIMO fattore per x sarà x/3\n",
    "# al contrario, se 2 non è il primo fattore, sarò sicuro che\n",
    "# non troverò nessun fattore sopra x/2, quindi non lo esplorerò.\n",
    "# idem per tutti gli altri fattori.\n",
    "\n",
    "x = 15069430\n",
    "i=0\n",
    "while i<5:\n",
    "    if x < 0:\n",
    "        x = 1\n",
    "    \n",
    "    x = x+1\n",
    "    d = 2 \n",
    "    \n",
    "    if x == 2 or x == 3:\n",
    "        print(x, end = \" \")\n",
    "        i=i+1\n",
    "    else:\n",
    "        # limito in maniera più efficace lo spazio dei numeri che voglio valutare come possibili fattori\n",
    "        while (d<(x/(d-1)) and not(x%d == 0)): \n",
    "            d = d+1\n",
    "        if not(x%d==0):\n",
    "            i = i+1\n",
    "            print(x, end = \" \")"
   ]
  },
  {
   "cell_type": "markdown",
   "metadata": {},
   "source": [
    "<br><br><br>\n",
    "**Esercizio \\[\\*\\]**: Definire una funzione *StampaFibonacci* che, dato in input $N$, stampi i primi $N$ numeri di Fibonacci\n",
    "\n",
    "esempi di output:\n",
    "- n = 0, output: *vuoto*\n",
    "- n = 1, output: *1*\n",
    "- n = 5, output: *1 1 2 3 5*"
   ]
  },
  {
   "cell_type": "code",
   "execution_count": 46,
   "metadata": {},
   "outputs": [
    {
     "name": "stdout",
     "output_type": "stream",
     "text": [
      "1 1 2 3 5 "
     ]
    }
   ],
   "source": [
    "def StampaFibonacci(N):\n",
    "    if N >= 1 :\n",
    "        a = 1\n",
    "        print(a, end = \" \")\n",
    "    if N >=2 :\n",
    "        b = 1\n",
    "        print(b, end = \" \")\n",
    "    for i in range(2,N):\n",
    "        c = a + b\n",
    "        print(c, end = \" \")\n",
    "        a=b\n",
    "        b=c\n",
    "    return\n",
    "\n",
    "N = 5\n",
    "StampaFibonacci(N)"
   ]
  },
  {
   "cell_type": "markdown",
   "metadata": {},
   "source": [
    "<br><br><br>\n",
    "**Esercizio \\[\\*\\]:** scrivere una funzione *Tabellina($B$,$N$)* che restituisca una lista dei primi $N$ numeri della tabellina di $B$\n",
    "\n",
    "*esempio 1*: <br>\n",
    "Lista = Tabellina(3,5)<br>\n",
    "print(Lista)\n",
    "- output: <br>\n",
    "\\[0, 3, 6, 9, 12\\]\n",
    "<br>\n",
    "\n",
    "*esempio 2*: <br>\n",
    "Lista = Tabellina(2,10)<br>\n",
    "print(Lista)\n",
    "- output: <br>\n",
    "\\[0, 2, 4, 6, 8, 10, 12, 14, 16 ,18\\]\n",
    "\n",
    "**Bonus! \\[\\*\\*\\*\\]:** Implementarla in una sola riga"
   ]
  },
  {
   "cell_type": "code",
   "execution_count": 57,
   "metadata": {},
   "outputs": [
    {
     "name": "stdout",
     "output_type": "stream",
     "text": [
      "[0, 3, 6, 9, 12]\n"
     ]
    }
   ],
   "source": [
    "def Tabellina(B,N): return list(range(0,N*B,B))\n",
    "\n",
    "B = 3\n",
    "N = 5\n",
    "Lista = Tabellina(B,N)\n",
    "print(Lista)"
   ]
  },
  {
   "cell_type": "markdown",
   "metadata": {},
   "source": [
    "<br><br><br>\n",
    "**Esercizio  \\[\\*\\*\\]**: Definisco una funzione che stampa una matrice rettangolare (assumendo una matrice ben definita con dimensioni n,m>=1)\n"
   ]
  },
  {
   "cell_type": "code",
   "execution_count": 59,
   "metadata": {},
   "outputs": [],
   "source": [
    "def stampa_matrice(Matrice):\n",
    "    N=len(Matrice)\n",
    "    M=len(Matrice[0])\n",
    "    print(\"[ \",end=\"\")\n",
    "    for i in range(N):\n",
    "        for j in range(M):\n",
    "            print(Matrice[i][j], end=\" \")\n",
    "        if (i+1)*(j+1) == N*M:\n",
    "            print(\"]\")\n",
    "        else:\n",
    "            print(\"\")\n",
    "            print(\"  \", end=\"\")\n",
    "    return"
   ]
  },
  {
   "cell_type": "markdown",
   "metadata": {},
   "source": [
    "<br><br><br>\n",
    "**Esercizio \\[\\*\\*\\]**: Dato $N$ numero di righe e $M$ di colonne, definire una funzione *MatCons($N$,$M$)* che restituisce una matrice *Mat* (intesa come lista di liste) di numeri progressivi.\n",
    "\n",
    "*esempio 1*: <br>\n",
    "stampa_matrice(MatCons(2,3))\n",
    "- output:<br>\n",
    "\\[ 1 2 3 <br>\n",
    "   4 5 6 \\]\n",
    "\n",
    "*esempio 2*: <br>\n",
    "stampa_matrice(MatCons(3,4))\n",
    "- output:<br>\n",
    "\\[ 1 2 3 4 <br>\n",
    "   5 6 7 8 <br>\n",
    "   9 10 11 12\\]\n",
    "\n",
    "*(!) esempio 3*: <br>\n",
    "stampa_matrice(MatCons(1,1))\n",
    "- output:<br>\n",
    "\\[ 1 \\]\n",
    "\n",
    "*Suggerimento:* nella funzione, inizia definendo *Mat* = list(range($N$))"
   ]
  },
  {
   "cell_type": "code",
   "execution_count": 84,
   "metadata": {},
   "outputs": [
    {
     "name": "stdout",
     "output_type": "stream",
     "text": [
      "[ 1 2 3 4 5 \n",
      "  6 7 8 9 10 ]\n"
     ]
    }
   ],
   "source": [
    "def MatCons(N,M):\n",
    "    Mat = list(range(N))\n",
    "    for i in range(N):\n",
    "        primo_elem_riga = i*M+1\n",
    "        primo_elem_riga_succ = (i+1)*M + 1 \n",
    "        newrow = list(range(primo_elem_riga,primo_elem_riga_succ))\n",
    "        Mat[i] = newrow\n",
    "    return Mat\n",
    "\n",
    "stampa_matrice(MatCons(2,5))"
   ]
  },
  {
   "cell_type": "markdown",
   "metadata": {},
   "source": [
    "<br><br><br>\n",
    "**Esercizio \\[\\*\\]** Definire una classe *Prodotto* che abbia le seguenti attributi:\n",
    "- code : codice prodotto (stringa di 5 char)\n",
    "- x = larghezza (cm)\n",
    "- y = altezza (cm)\n",
    "- z = profondità (cm)\n",
    "\n",
    "e un metodo *volume* che calcola e stampa il volume del prodotto.<br>\n",
    "Tutti gli argomenti devono essere inseriti al momento della creazione dell'oggetto"
   ]
  },
  {
   "cell_type": "code",
   "execution_count": 66,
   "metadata": {},
   "outputs": [
    {
     "name": "stdout",
     "output_type": "stream",
     "text": [
      "Codice prodotto: 00C75\n",
      "Larghezza prodotto: 15cm\n",
      "Altezza prodotto: 20cm\n",
      "Profondità prodotto: 1cm\n",
      "\n",
      "Volume prodotto A: 300\n"
     ]
    }
   ],
   "source": [
    "class Prodotto:\n",
    "    def __init__(self,code,x,y,z):\n",
    "        self.x = x\n",
    "        self.y = y\n",
    "        self.z = z\n",
    "        self.code = code\n",
    "        return\n",
    "    \n",
    "    def volume(self):\n",
    "        return self.x*self.y*self.z\n",
    "    \n",
    "    def stampa(self):\n",
    "        print(\"Codice prodotto:\", self.code)\n",
    "        print(\"Larghezza prodotto: \", self.x,\"cm\", sep=\"\")\n",
    "        print(\"Altezza prodotto: \", self.y,\"cm\", sep=\"\")\n",
    "        print(\"Profondità prodotto: \", self.z,\"cm\",sep=\"\")\n",
    "        return\n",
    "        \n",
    "A = Prodotto(\"00C75\",15,20,1)\n",
    "A.stampa()\n",
    "print(\"\")\n",
    "print(\"Volume prodotto A:\", A.volume())"
   ]
  },
  {
   "cell_type": "markdown",
   "metadata": {},
   "source": [
    "<br><br><br>\n",
    "**Esercizio \\[\\*\\*\\]**: Creare una classe *Matrice* che venga definita a partire da una **lista di liste che possa rappresentare una matrice** (vedi esercizi svolti) e la salvi nell'attributo *data*.<br>\n",
    "Implementare nella classe i seguenti metodi:\n",
    "- nrows(): resituisce il numero delle righe\n",
    "- ncols(): restituisce il numero di colonne\n",
    "- row(n): restituisce la riga *n* (con n$\\in [0,N-1]$) sotto forma di lista\n",
    "- display: stampa la matrice nel formato bidimensionale (vedi stampa_matrice in esercizi svolti)\n",
    "\n",
    "\n",
    "**Bonus! \\[\\*\\*\\*\\]**: implementare per la classe *Matrice* anche il seguente metodo:\n",
    "- col(m): restituisce la colonna *m* (con m$\\in [0,M-1]$) sotto forma di lista\n",
    "\n",
    "*Suggerimenti:* \n",
    "1) per creare una lista vuota:\n",
    "- empty_list = \\[\\]<br>\n",
    "\n",
    "2) per aggiungere un elemento *y* in coda alla lista *x*:\n",
    "- x.append(y)\n"
   ]
  },
  {
   "cell_type": "code",
   "execution_count": 90,
   "metadata": {},
   "outputs": [],
   "source": [
    "class Matrice:\n",
    "    def __init__(self,M):\n",
    "        self.data = M\n",
    "        return\n",
    "    \n",
    "    def nrows(self):\n",
    "        return(len(self.data))\n",
    "    \n",
    "    def ncols(self):\n",
    "        if self.nrows() == 0:\n",
    "            return 0\n",
    "        else: \n",
    "            return(len(self.data[0]))\n",
    "    \n",
    "    def row(self,n):\n",
    "        return self.data[n]\n",
    "    \n",
    "    def display(self):\n",
    "        N=len(self.data)\n",
    "        if N == 0:\n",
    "            print(\"[]\")\n",
    "        else:\n",
    "            M=len(self.data[0])\n",
    "            print(\"[ \",end=\"\")\n",
    "            for i in range(N):\n",
    "                for j in range(M):\n",
    "                    print(self.data[i][j], end=\" \")\n",
    "                if (i+1)*(j+1) == N*M:\n",
    "                    print(\"]\")\n",
    "                else:\n",
    "                    print(\"\")\n",
    "                    print(\"  \", end=\"\")\n",
    "        return\n",
    "    \n",
    "    def col(self,m):\n",
    "        colm = []\n",
    "        for i in range(len(self.data)):\n",
    "            colm.append(self.data[i][m])\n",
    "        return colm"
   ]
  },
  {
   "cell_type": "code",
   "execution_count": 91,
   "metadata": {},
   "outputs": [
    {
     "name": "stdout",
     "output_type": "stream",
     "text": [
      "Numero righe: 3\n",
      "Numero colonne: 5\n",
      "\n",
      "Matrice completa:\n",
      "[ 1 2 3 4 5 \n",
      "  6 7 8 9 10 \n",
      "  11 12 13 14 15 ]\n",
      "\n",
      "Seconda riga: [6, 7, 8, 9, 10]\n",
      "Terza colonna: [3, 8, 13]\n"
     ]
    }
   ],
   "source": [
    "M = Matrice(MatCons(3,5))\n",
    "\n",
    "print(\"Numero righe:\", M.nrows())\n",
    "print(\"Numero colonne:\", M.ncols())\n",
    "print(\"\")\n",
    "print(\"Matrice completa:\")\n",
    "M.display()\n",
    "print(\"\")\n",
    "print(\"Seconda riga:\", M.row(1))\n",
    "print(\"Terza colonna:\", M.col(2))\n"
   ]
  }
 ],
 "metadata": {
  "kernelspec": {
   "display_name": "Python 3",
   "language": "python",
   "name": "python3"
  },
  "language_info": {
   "codemirror_mode": {
    "name": "ipython",
    "version": 3
   },
   "file_extension": ".py",
   "mimetype": "text/x-python",
   "name": "python",
   "nbconvert_exporter": "python",
   "pygments_lexer": "ipython3",
   "version": "3.8.5"
  }
 },
 "nbformat": 4,
 "nbformat_minor": 4
}
